{
 "cells": [
  {
   "cell_type": "markdown",
   "id": "025826a7",
   "metadata": {},
   "source": [
    "## A/B–тестирование\n",
    "В ходе тестирования одной гипотезы целевой группе была предложена новая механика оплаты услуг на сайте, у контрольной группы оставалась базовая механика. Необходимо проанализировать итоги эксперимента и сделать вывод, стоит ли запускать новую механику оплаты на всех пользователей.\n",
    "\n",
    "В качестве входных данных имеются 4 csv-файла:\n",
    "\n",
    "* groups.csv - файл с информацией о принадлежности пользователя к контрольной или экспериментальной группе (А – контроль, B – целевая группа) \n",
    "* groups_add.csv - дополнительный файл с пользователями, который был прислан спустя 2 дня после передачи данных\n",
    "* active_studs.csv - файл с информацией о пользователях, которые зашли на платформу в дни проведения эксперимента. \n",
    "* checks.csv - файл с информацией об оплатах пользователей в дни проведения эксперимента. "
   ]
  },
  {
   "cell_type": "code",
   "execution_count": 1,
   "id": "97b0ac4b",
   "metadata": {},
   "outputs": [],
   "source": [
    "import pandas as pd\n",
    "import numpy as np\n",
    "import seaborn as sns\n",
    "import scipy.stats as st\n",
    "import matplotlib.pyplot as plt"
   ]
  },
  {
   "cell_type": "code",
   "execution_count": 2,
   "id": "cf02ee4c",
   "metadata": {},
   "outputs": [],
   "source": [
    "# создам кастомную функцию стилей графиков на основе seaborn.set_theme()\n",
    "def set_style(style='whitegrid', rc=None, palette='deep', xticks='on', yticks='off', default_rc=False):\n",
    "    if default_rc:\n",
    "        plt.style.use('default')\n",
    "        user_rc = {'grid.color': 'f0f0f0'}\n",
    "    else:\n",
    "        user_rc = {'figure.figsize': (18, 6), 'axes.titlesize': 20, 'axes.labelsize': 18, \n",
    "                   'xtick.labelsize': 12, 'ytick.labelsize': 12, 'axes.titlepad': 30, \n",
    "                   'lines.linewidth': 3.5, 'figure.dpi': 120, 'grid.color': 'f0f0f0', \n",
    "                   'legend.fontsize': 14.0, 'legend.title_fontsize': 16.0, 'legend.frameon': False}\n",
    "    \n",
    "    if xticks == 'on':\n",
    "        user_rc |= {'xtick.bottom': True, 'xtick.minor.visible': False}\n",
    "        \n",
    "    if yticks == 'on':\n",
    "        user_rc |= {'ytick.left': True}\n",
    "    \n",
    "    sns.set_theme(style=style, rc=user_rc, palette=palette)"
   ]
  },
  {
   "cell_type": "code",
   "execution_count": 3,
   "id": "778014af",
   "metadata": {},
   "outputs": [],
   "source": [
    "set_style(default_rc=True)"
   ]
  },
  {
   "cell_type": "markdown",
   "id": "5cbcb496",
   "metadata": {},
   "source": [
    "### Предобработка данных\n",
    "Загружаю датафреймы"
   ]
  },
  {
   "cell_type": "code",
   "execution_count": 4,
   "id": "2e239858",
   "metadata": {},
   "outputs": [
    {
     "data": {
      "text/html": [
       "<div>\n",
       "<style scoped>\n",
       "    .dataframe tbody tr th:only-of-type {\n",
       "        vertical-align: middle;\n",
       "    }\n",
       "\n",
       "    .dataframe tbody tr th {\n",
       "        vertical-align: top;\n",
       "    }\n",
       "\n",
       "    .dataframe thead th {\n",
       "        text-align: right;\n",
       "    }\n",
       "</style>\n",
       "<table border=\"1\" class=\"dataframe\">\n",
       "  <thead>\n",
       "    <tr style=\"text-align: right;\">\n",
       "      <th></th>\n",
       "      <th>id;grp</th>\n",
       "    </tr>\n",
       "  </thead>\n",
       "  <tbody>\n",
       "    <tr>\n",
       "      <th>0</th>\n",
       "      <td>1489;B</td>\n",
       "    </tr>\n",
       "    <tr>\n",
       "      <th>1</th>\n",
       "      <td>1627;A</td>\n",
       "    </tr>\n",
       "  </tbody>\n",
       "</table>\n",
       "</div>"
      ],
      "text/plain": [
       "   id;grp\n",
       "0  1489;B\n",
       "1  1627;A"
      ]
     },
     "execution_count": 4,
     "metadata": {},
     "output_type": "execute_result"
    }
   ],
   "source": [
    "groups = pd.read_csv('groups.csv')\n",
    "groups.head(2)"
   ]
  },
  {
   "cell_type": "code",
   "execution_count": 5,
   "id": "4a762f0d",
   "metadata": {
    "scrolled": true
   },
   "outputs": [
    {
     "name": "stdout",
     "output_type": "stream",
     "text": [
      "<class 'pandas.core.frame.DataFrame'>\n",
      "RangeIndex: 74484 entries, 0 to 74483\n",
      "Data columns (total 1 columns):\n",
      " #   Column  Non-Null Count  Dtype \n",
      "---  ------  --------------  ----- \n",
      " 0   id;grp  74484 non-null  object\n",
      "dtypes: object(1)\n",
      "memory usage: 582.0+ KB\n"
     ]
    }
   ],
   "source": [
    "# пропущенных значений нет\n",
    "groups.info()"
   ]
  },
  {
   "cell_type": "code",
   "execution_count": 6,
   "id": "5809e274",
   "metadata": {},
   "outputs": [
    {
     "data": {
      "text/html": [
       "<div>\n",
       "<style scoped>\n",
       "    .dataframe tbody tr th:only-of-type {\n",
       "        vertical-align: middle;\n",
       "    }\n",
       "\n",
       "    .dataframe tbody tr th {\n",
       "        vertical-align: top;\n",
       "    }\n",
       "\n",
       "    .dataframe thead th {\n",
       "        text-align: right;\n",
       "    }\n",
       "</style>\n",
       "<table border=\"1\" class=\"dataframe\">\n",
       "  <thead>\n",
       "    <tr style=\"text-align: right;\">\n",
       "      <th></th>\n",
       "      <th>id</th>\n",
       "      <th>grp</th>\n",
       "    </tr>\n",
       "  </thead>\n",
       "  <tbody>\n",
       "    <tr>\n",
       "      <th>0</th>\n",
       "      <td>5694584</td>\n",
       "      <td>B</td>\n",
       "    </tr>\n",
       "    <tr>\n",
       "      <th>1</th>\n",
       "      <td>5694830</td>\n",
       "      <td>B</td>\n",
       "    </tr>\n",
       "  </tbody>\n",
       "</table>\n",
       "</div>"
      ],
      "text/plain": [
       "        id grp\n",
       "0  5694584   B\n",
       "1  5694830   B"
      ]
     },
     "execution_count": 6,
     "metadata": {},
     "output_type": "execute_result"
    }
   ],
   "source": [
    "groups_add = pd.read_csv('groups_add.csv')\n",
    "groups_add.head(2)"
   ]
  },
  {
   "cell_type": "code",
   "execution_count": 7,
   "id": "fb6fefbc",
   "metadata": {},
   "outputs": [
    {
     "name": "stdout",
     "output_type": "stream",
     "text": [
      "<class 'pandas.core.frame.DataFrame'>\n",
      "RangeIndex: 92 entries, 0 to 91\n",
      "Data columns (total 2 columns):\n",
      " #   Column  Non-Null Count  Dtype \n",
      "---  ------  --------------  ----- \n",
      " 0   id      92 non-null     int64 \n",
      " 1   grp     92 non-null     object\n",
      "dtypes: int64(1), object(1)\n",
      "memory usage: 1.6+ KB\n"
     ]
    }
   ],
   "source": [
    "# пропущенных значений нет\n",
    "groups_add.info()"
   ]
  },
  {
   "cell_type": "code",
   "execution_count": 8,
   "id": "90d70658",
   "metadata": {},
   "outputs": [
    {
     "data": {
      "text/html": [
       "<div>\n",
       "<style scoped>\n",
       "    .dataframe tbody tr th:only-of-type {\n",
       "        vertical-align: middle;\n",
       "    }\n",
       "\n",
       "    .dataframe tbody tr th {\n",
       "        vertical-align: top;\n",
       "    }\n",
       "\n",
       "    .dataframe thead th {\n",
       "        text-align: right;\n",
       "    }\n",
       "</style>\n",
       "<table border=\"1\" class=\"dataframe\">\n",
       "  <thead>\n",
       "    <tr style=\"text-align: right;\">\n",
       "      <th></th>\n",
       "      <th>student_id</th>\n",
       "    </tr>\n",
       "  </thead>\n",
       "  <tbody>\n",
       "    <tr>\n",
       "      <th>0</th>\n",
       "      <td>581585</td>\n",
       "    </tr>\n",
       "    <tr>\n",
       "      <th>1</th>\n",
       "      <td>5723133</td>\n",
       "    </tr>\n",
       "  </tbody>\n",
       "</table>\n",
       "</div>"
      ],
      "text/plain": [
       "   student_id\n",
       "0      581585\n",
       "1     5723133"
      ]
     },
     "execution_count": 8,
     "metadata": {},
     "output_type": "execute_result"
    }
   ],
   "source": [
    "active_studs = pd.read_csv('active_studs.csv')\n",
    "active_studs.head(2)"
   ]
  },
  {
   "cell_type": "code",
   "execution_count": 9,
   "id": "5da4e269",
   "metadata": {},
   "outputs": [
    {
     "name": "stdout",
     "output_type": "stream",
     "text": [
      "<class 'pandas.core.frame.DataFrame'>\n",
      "RangeIndex: 8341 entries, 0 to 8340\n",
      "Data columns (total 1 columns):\n",
      " #   Column      Non-Null Count  Dtype\n",
      "---  ------      --------------  -----\n",
      " 0   student_id  8341 non-null   int64\n",
      "dtypes: int64(1)\n",
      "memory usage: 65.3 KB\n"
     ]
    }
   ],
   "source": [
    "# пропущенных значений нет\n",
    "active_studs.info()"
   ]
  },
  {
   "cell_type": "code",
   "execution_count": 10,
   "id": "92a6b899",
   "metadata": {},
   "outputs": [
    {
     "data": {
      "text/html": [
       "<div>\n",
       "<style scoped>\n",
       "    .dataframe tbody tr th:only-of-type {\n",
       "        vertical-align: middle;\n",
       "    }\n",
       "\n",
       "    .dataframe tbody tr th {\n",
       "        vertical-align: top;\n",
       "    }\n",
       "\n",
       "    .dataframe thead th {\n",
       "        text-align: right;\n",
       "    }\n",
       "</style>\n",
       "<table border=\"1\" class=\"dataframe\">\n",
       "  <thead>\n",
       "    <tr style=\"text-align: right;\">\n",
       "      <th></th>\n",
       "      <th>student_id;\"rev\"</th>\n",
       "    </tr>\n",
       "  </thead>\n",
       "  <tbody>\n",
       "    <tr>\n",
       "      <th>0</th>\n",
       "      <td>1627;990.0</td>\n",
       "    </tr>\n",
       "    <tr>\n",
       "      <th>1</th>\n",
       "      <td>3185;690.0</td>\n",
       "    </tr>\n",
       "  </tbody>\n",
       "</table>\n",
       "</div>"
      ],
      "text/plain": [
       "  student_id;\"rev\"\n",
       "0       1627;990.0\n",
       "1       3185;690.0"
      ]
     },
     "execution_count": 10,
     "metadata": {},
     "output_type": "execute_result"
    }
   ],
   "source": [
    "checks = pd.read_csv('checks.csv')\n",
    "checks.head(2)"
   ]
  },
  {
   "cell_type": "code",
   "execution_count": 11,
   "id": "53b6bf3a",
   "metadata": {},
   "outputs": [
    {
     "name": "stdout",
     "output_type": "stream",
     "text": [
      "<class 'pandas.core.frame.DataFrame'>\n",
      "RangeIndex: 541 entries, 0 to 540\n",
      "Data columns (total 1 columns):\n",
      " #   Column            Non-Null Count  Dtype \n",
      "---  ------            --------------  ----- \n",
      " 0   student_id;\"rev\"  541 non-null    object\n",
      "dtypes: object(1)\n",
      "memory usage: 4.4+ KB\n"
     ]
    }
   ],
   "source": [
    "# пропущенных значений нет\n",
    "checks.info()"
   ]
  },
  {
   "cell_type": "markdown",
   "id": "c593ca28",
   "metadata": {},
   "source": [
    "Теперь надо смерджить таблицы, чтобы анализировать результаты А/Б теста. Но перед этим необходимо обработать таблицы и привести данные в нужный для анализа вид и тип.\n",
    "\n",
    "Обработаем таблицу `groups`"
   ]
  },
  {
   "cell_type": "code",
   "execution_count": 12,
   "id": "6c82926a",
   "metadata": {},
   "outputs": [
    {
     "data": {
      "text/html": [
       "<div>\n",
       "<style scoped>\n",
       "    .dataframe tbody tr th:only-of-type {\n",
       "        vertical-align: middle;\n",
       "    }\n",
       "\n",
       "    .dataframe tbody tr th {\n",
       "        vertical-align: top;\n",
       "    }\n",
       "\n",
       "    .dataframe thead th {\n",
       "        text-align: right;\n",
       "    }\n",
       "</style>\n",
       "<table border=\"1\" class=\"dataframe\">\n",
       "  <thead>\n",
       "    <tr style=\"text-align: right;\">\n",
       "      <th></th>\n",
       "      <th>id</th>\n",
       "      <th>grp</th>\n",
       "    </tr>\n",
       "  </thead>\n",
       "  <tbody>\n",
       "    <tr>\n",
       "      <th>0</th>\n",
       "      <td>1489</td>\n",
       "      <td>B</td>\n",
       "    </tr>\n",
       "    <tr>\n",
       "      <th>1</th>\n",
       "      <td>1627</td>\n",
       "      <td>A</td>\n",
       "    </tr>\n",
       "  </tbody>\n",
       "</table>\n",
       "</div>"
      ],
      "text/plain": [
       "     id grp\n",
       "0  1489   B\n",
       "1  1627   A"
      ]
     },
     "execution_count": 12,
     "metadata": {},
     "output_type": "execute_result"
    }
   ],
   "source": [
    "# Из одной колонки делаю две, разделяя информацию на id и группы:\n",
    "groups['id'] = groups['id;grp'].apply(lambda x: x.split(';')[0])\n",
    "groups['grp'] = groups['id;grp'].apply(lambda x: x.split(';')[1])\n",
    "del groups['id;grp']\n",
    "groups.head(2)"
   ]
  },
  {
   "cell_type": "code",
   "execution_count": 13,
   "id": "7e95c4ca",
   "metadata": {},
   "outputs": [],
   "source": [
    "# привожу id к числовому типу\n",
    "groups.id = pd.to_numeric(groups.id)"
   ]
  },
  {
   "cell_type": "markdown",
   "id": "1f310962",
   "metadata": {},
   "source": [
    "Обработаем таблицу `checks`. В checks содержится информация о revenue. "
   ]
  },
  {
   "cell_type": "code",
   "execution_count": 14,
   "id": "aa2fec08",
   "metadata": {
    "scrolled": true
   },
   "outputs": [
    {
     "data": {
      "text/plain": [
       "array(['1627;990.0', '3185;690.0', '25973;690.0', '26280;690.0',\n",
       "       '100300;990.0', '100645;630.0', '102534;580.0', '106837;290.0',\n",
       "       '108270;290.0', '114366;690.0', '150911;290.0', '158400;690.0',\n",
       "       '181671;690.0', '191925;690.0', '206193;690.0', '207051;690.0',\n",
       "       '212994;690.0', '218393;690.0', '225541;690.0', '226909;1140.0',\n",
       "       '238747;690.0', '239626;1140.0', '243614;690.0', '247613;690.0',\n",
       "       '247888;690.0', '250196;690.0', '264473;1900.0001', '274352;690.0',\n",
       "       '280034;290.0', '280036;199.0', '284083;398.0', '287008;1830.0',\n",
       "       '296608;1140.0', '299195;1900.0', '308549;1900.0', '308594;1900.0',\n",
       "       '311875;690.0', '317062;3260.0', '323325;690.0', '330737;1900.0',\n",
       "       '331312;1900.0', '332387;2910.0', '338677;1900.0001',\n",
       "       '343083;990.0', '347455;2820.0', '350574;690.0', '352210;690.0',\n",
       "       '359039;2099.0', '365174;690.0', '365832;690.0', '366127;1900.0',\n",
       "       '368342;1900.0', '369906;690.0', '376893;1140.0', '376983;690.0',\n",
       "       '379049;690.0', '380679;690.0', '384731;1900.0', '387124;690.0',\n",
       "       '393127;290.0', '402835;690.0', '429366;1140.0', '431962;690.0',\n",
       "       '439887;690.0', '445767;3660.0', '446915;690.0', '447632;690.0',\n",
       "       '448772;1140.0', '448877;690.0', '449385;1140.0', '449412;690.0',\n",
       "       '450046;690.0', '450103;690.0', '450766;690.0', '450815;1140.0',\n",
       "       '450910;690.0', '453013;690.0', '453160;690.0', '454872;690.0',\n",
       "       '454934;690.0', '455013;690.0', '455043;690.0', '455095;690.0',\n",
       "       '455733;690.0', '455892;690.0', '455945;690.0', '455952;1140.0',\n",
       "       '456232;690.0', '456247;690.0', '456477;690.0', '456555;1140.0',\n",
       "       '456900;690.0', '457466;690.0', '457498;690.0', '458069;690.0',\n",
       "       '458325;690.0', '458537;690.0', '458595;690.0', '459013;1140.0',\n",
       "       '459612;690.0', '459662;690.0', '460144;690.0', '460193;1530.0',\n",
       "       '460488;690.0', '461721;690.0', '496794;580.0', '521164;1900.0',\n",
       "       '522430;990.0', '526310;1900.0', '536848;1900.0', '552320;990.0',\n",
       "       '561877;290.0', '581119;290.0', '594228;2900.0', '600890;1900.0',\n",
       "       '634112;290.0', '657214;990.0', '695216;199.0', '696135;398.0',\n",
       "       '703252;1900.0', '720651;1980.0', '759073;1900.0001',\n",
       "       '766755;1900.0001', '766874;1900.0001', '771968;290.0',\n",
       "       '776259;990.0', '776467;199.0', '800185;1900.0001',\n",
       "       '806723;1900.0', '806984;580.0', '829330;3660.0', '879402;1900.0',\n",
       "       '913993;1140.0', '926967;1900.0', '967564;580.0', '987129;1980.0',\n",
       "       '991392;398.0', '996727;290.0', '1000052;1900.0001',\n",
       "       '1007302;990.0', '1008928;1900.0001', '1012910;1160.0',\n",
       "       '1014224;990.0', '1016481;580.0', '1021084;290.0', '1022121;990.0',\n",
       "       '1022406;290.0', '1024467;1900.0', '1029642;1900.0',\n",
       "       '1036096;1900.0', '1037236;1900.0', '1045136;1900.0',\n",
       "       '1050825;1900.0001', '1068688;1140.0', '1073096;290.0',\n",
       "       '1077515;1900.0', '1086218;1900.0', '1089482;1900.0',\n",
       "       '1090718;990.0', '1094102;690.0', '1097225;1900.0',\n",
       "       '1108682;290.0', '1108686;1900.0', '1113763;690.0',\n",
       "       '1116874;1900.0', '1123519;990.0', '1124395;290.0',\n",
       "       '1134649;990.0', '1135439;1900.0', '1147732;1900.0',\n",
       "       '1160511;870.0', '1182574;990.0', '1184303;1530.0',\n",
       "       '1187944;290.0', '1202202;2910.0', '1220488;1980.0',\n",
       "       '1220810;1900.0', '1221628;199.0', '1225044;1900.0001',\n",
       "       '1232221;1900.0', '1234386;840.0', '1252116;870.0',\n",
       "       '1259235;199.0', '1265965;840.0', '1281916;2890.0',\n",
       "       '1316069;1900.0', '1318118;1900.0001', '1335384;840.0',\n",
       "       '1346450;580.0', '1358182;1900.0001', '1390994;398.0',\n",
       "       '1400335;290.0', '1410414;1900.0', '1410693;1900.0',\n",
       "       '1422856;199.0', '1439245;690.0', '1439851;1180.0',\n",
       "       '1445615;1140.0', '1458792;990.0', '1466778;880.0',\n",
       "       '1467890;1900.0001', '1471122;290.0', '1477204;3040.0',\n",
       "       '1479137;1530.0', '1491365;1530.0', '1516029;290.0',\n",
       "       '1516339;290.0', '1519814;1900.0', '1529060;990.0',\n",
       "       '1540324;1900.0', '1541530;290.0', '1543217;199.0',\n",
       "       '1551921;1900.0', '1554017;199.0', '1554194;1900.0',\n",
       "       '1555055;199.0', '1557550;290.0', '1568415;1900.0',\n",
       "       '1579426;290.0', '1579750;796.0', '1590279;1530.0',\n",
       "       '1595691;290.0', '1611071;290.0', '1617049;990.0',\n",
       "       '1624158;3660.0', '1625302;1900.0', '1638517;1900.0001',\n",
       "       '1659434;690.0', '1672713;990.0', '1683435;199.0',\n",
       "       '1687177;1900.0001', '1711305;4650.0', '1736530;2190.0',\n",
       "       '1739329;199.0', '1755467;2910.0', '1771875;990.0',\n",
       "       '1783273;1900.0', '1790619;690.0', '1810518;990.0',\n",
       "       '1817245;1140.0', '1820232;1729.0', '1837211;990.0',\n",
       "       '1847749;840.0', '1851744;1900.0', '1880452;1900.0001',\n",
       "       '1893556;290.0', '1897820;1900.0001', '1903217;1900.0',\n",
       "       '1945744;870.0', '1956186;580.0', '2071359;1900.0',\n",
       "       '2081846;1900.0', '2116294;840.0', '2150601;3660.0',\n",
       "       '2172201;199.0', '2174339;1900.0001', '2176352;1530.0',\n",
       "       '2181089;840.0', '2257662;290.0', '2276511;290.0', '2306271;290.0',\n",
       "       '2361862;290.0', '2388577;1900.0', '2393822;1900.0',\n",
       "       '2394657;1900.0001', '2455897;2820.0', '2464346;290.0',\n",
       "       '2480939;290.0', '2485184;990.0', '2489822;840.0',\n",
       "       '2526021;1140.0', '2527157;1140.0', '2543795;840.0',\n",
       "       '2557593;1900.0', '2575187;1900.0', '2624822;840.0',\n",
       "       '2633282;199.0', '2650110;199.0', '2686297;1900.0',\n",
       "       '2690129;1140.0', '2692209;1900.0001', '2698943;1388.0',\n",
       "       '2712604;1900.0', '2725067;290.0', '2735665;1900.0',\n",
       "       '2737543;840.0', '2766490;2890.0', '2790450;840.0',\n",
       "       '2794098;290.0', '2896010;1900.0', '2914580;1900.0001',\n",
       "       '2940657;199.0', '2952307;690.0', '2996381;1900.0001',\n",
       "       '3010261;199.0', '3011143;840.0', '3013878;1900.0',\n",
       "       '3016650;990.0', '3029991;840.0', '3044093;690.0',\n",
       "       '3054644;1900.0', '3076730;1530.0', '3083400;290.0',\n",
       "       '3087954;990.0', '3097956;1900.0', '3102368;290.0',\n",
       "       '3108567;840.0', '3110897;870.0', '3117598;290.0', '3117959;199.0',\n",
       "       '3119090;590.0', '3119515;290.0', '3121370;1900.0',\n",
       "       '3127631;2220.0', '3143818;1900.0', '3148679;290.0',\n",
       "       '3156691;1900.0', '3157476;2099.0', '3160903;290.0',\n",
       "       '3162542;990.0', '3168441;290.0', '3169660;199.0', '3172630;290.0',\n",
       "       '3184665;199.0', '3186600;199.0', '3195660;489.0', '3198941;840.0',\n",
       "       '3199715;290.0', '3204592;1900.0', '3206185;290.0',\n",
       "       '3207087;199.0', '3217461;1530.0', '3217479;990.0',\n",
       "       '3232706;1900.0', '3236909;1900.0001', '3238346;990.0',\n",
       "       '3239619;840.0', '3247269;199.0', '3247723;590.0', '3249082;990.0',\n",
       "       '3257969;1050.0', '3269139;990.0', '3272596;398.0',\n",
       "       '3274600;1900.0001', '3278017;690.0', '3278734;1900.0',\n",
       "       '3282270;1900.0', '3303702;1900.0', '3312112;1900.0',\n",
       "       '3319672;1968.0', '3324574;840.0', '3328947;580.0',\n",
       "       '3330061;290.0', '3334859;199.0', '3335339;1900.0001',\n",
       "       '3347363;290.0', '3354191;1900.0001', '3354373;870.0',\n",
       "       '3355197;2220.0', '3365536;1900.0001', '3369713;590.0',\n",
       "       '3370756;580.0', '3392210;290.0', '3395583;290.0',\n",
       "       '3423411;1900.0', '3431601;1180.0', '3443665;590.0',\n",
       "       '3451399;590.0', '3456377;1900.0001', '3456435;199.0',\n",
       "       '3462630;290.0', '3497864;290.0', '3500669;990.0',\n",
       "       '3503981;1339.0', '3512746;590.0', '3516039;1900.0',\n",
       "       '3520288;840.0', '3522029;290.0', '3526281;290.0',\n",
       "       '3530122;1900.0', '3554807;1900.0', '3554985;290.0',\n",
       "       '3586374;840.0', '3610547;290.0', '3622791;290.0',\n",
       "       '3730883;1900.0001', '3750640;290.0', '3760828;1140.0',\n",
       "       '3785524;290.0', '3806942;290.0', '3821501;1900.0',\n",
       "       '3822219;398.0', '3822616;199.0', '3843896;290.0',\n",
       "       '3845821;1900.0001', '3851300;580.0', '3885006;1900.0',\n",
       "       '3890326;199.0', '3910596;597.0', '3913123;990.0',\n",
       "       '3954825;1140.0', '3956676;690.0', '3967955;1900.0',\n",
       "       '3968980;1900.0', '3978767;1140.0', '3993249;290.0',\n",
       "       '3995801;1900.0', '4001573;990.0', '4002619;2890.0',\n",
       "       '4034293;199.0', '4037951;1140.0', '4038035;199.0',\n",
       "       '4051351;1900.0', '4061096;840.0', '4109568;290.0',\n",
       "       '4121112;290.0', '4158535;290.0', '4161439;840.0', '4163705;580.0',\n",
       "       '4192343;290.0', '4202732;290.0', '4202940;580.0',\n",
       "       '4208448;1140.0', '4216932;1039.0', '4218092;1900.0',\n",
       "       '4221497;199.0', '4247427;1900.0', '4253048;290.0',\n",
       "       '4272388;1900.0001', '4274891;990.0', '4279164;990.0',\n",
       "       '4283302;290.0', '4288152;580.0', '4294972;290.0', '4312265;199.0',\n",
       "       '4324749;199.0', '4337103;580.0', '4337111;489.0', '4337319;199.0',\n",
       "       '4347916;690.0', '4348697;290.0', '4352425;1900.0',\n",
       "       '4360812;290.0', '4383821;990.0', '4400580;199.0', '4432637;290.0',\n",
       "       '4459704;2890.0', '4465732;1900.0', '4472446;1900.0',\n",
       "       '4506719;1900.0001', '4523975;1900.0', '4534262;290.0',\n",
       "       '4534676;199.0', '4552800;990.0', '4555061;1900.0001',\n",
       "       '4578763;290.0', '4589133;199.0', '4599898;290.0', '4603576;840.0',\n",
       "       '4622609;290.0', '4628370;199.0', '4653645;590.0', '4660047;990.0',\n",
       "       '4662288;990.0', '4673307;1900.0', '4704151;290.0',\n",
       "       '4704513;290.0', '4744425;990.0', '4778580;1900.0001',\n",
       "       '4789014;1900.0', '4798944;199.0', '4822057;199.0',\n",
       "       '4827910;398.0', '4868317;990.0', '4873135;1900.0001',\n",
       "       '4875778;1900.0', '4907380;590.0', '4918479;840.0',\n",
       "       '4923312;1900.0', '4928898;690.0', '4934549;840.0',\n",
       "       '4935152;290.0', '4944649;2910.0', '4954171;290.0',\n",
       "       '4978291;1140.0', '5004439;1900.0', '5008392;690.0',\n",
       "       '5031164;1900.0', '5048036;290.0', '5070351;290.0',\n",
       "       '5072828;290.0', '5081288;290.0', '5095970;590.0',\n",
       "       '5104290;1140.0', '5113852;290.0', '5144149;290.0',\n",
       "       '5157537;199.0', '5177600;199.0', '5180675;870.0', '5182220;580.0',\n",
       "       '5190582;398.0', '5211975;290.0', '5215932;840.0', '5246235;290.0',\n",
       "       '5250795;199.0', '5252412;1900.0', '5274374;199.0',\n",
       "       '5286804;290.0', '5291900;199.0', '5295654;1900.0',\n",
       "       '5303305;1900.0', '5316551;3660.0', '5331842;290.0',\n",
       "       '5334403;840.0', '5378875;590.0', '5380274;290.0',\n",
       "       '5389051;1160.0', '5394575;990.0', '5480804;1980.0',\n",
       "       '5481541;1900.0001', '5484905;199.0', '5486319;199.0',\n",
       "       '5523486;199.0', '5529834;290.0', '5538992;290.0',\n",
       "       '5545563;1160.0', '5546326;840.0', '5553945;690.0',\n",
       "       '5556966;290.0', '5557468;290.0', '5562806;398.0', '5567520;489.0',\n",
       "       '5577840;590.0', '5580316;2099.0', '5599663;1900.0',\n",
       "       '5609523;1900.0', '5645737;1900.0', '5651566;1900.0',\n",
       "       '5662322;1900.0', '5681918;1900.0', '5740903;1900.0'], dtype=object)"
      ]
     },
     "execution_count": 14,
     "metadata": {},
     "output_type": "execute_result"
    }
   ],
   "source": [
    "# Обнаружил, что есть ревенью 1900.0001 \n",
    "checks['student_id;\"rev\"'].unique()"
   ]
  },
  {
   "cell_type": "markdown",
   "id": "2a60d514",
   "metadata": {},
   "source": [
    "Это, возможно, ошибка. В любом, случае, решил избавиться от хвоста. Он слишком мал, чтобы на что-то влиять. А избавление позволит упростить анализ"
   ]
  },
  {
   "cell_type": "code",
   "execution_count": 15,
   "id": "23cbdf3d",
   "metadata": {},
   "outputs": [
    {
     "data": {
      "text/html": [
       "<div>\n",
       "<style scoped>\n",
       "    .dataframe tbody tr th:only-of-type {\n",
       "        vertical-align: middle;\n",
       "    }\n",
       "\n",
       "    .dataframe tbody tr th {\n",
       "        vertical-align: top;\n",
       "    }\n",
       "\n",
       "    .dataframe thead th {\n",
       "        text-align: right;\n",
       "    }\n",
       "</style>\n",
       "<table border=\"1\" class=\"dataframe\">\n",
       "  <thead>\n",
       "    <tr style=\"text-align: right;\">\n",
       "      <th></th>\n",
       "      <th>student_id</th>\n",
       "      <th>rev</th>\n",
       "    </tr>\n",
       "  </thead>\n",
       "  <tbody>\n",
       "    <tr>\n",
       "      <th>0</th>\n",
       "      <td>1627</td>\n",
       "      <td>990</td>\n",
       "    </tr>\n",
       "    <tr>\n",
       "      <th>1</th>\n",
       "      <td>3185</td>\n",
       "      <td>690</td>\n",
       "    </tr>\n",
       "  </tbody>\n",
       "</table>\n",
       "</div>"
      ],
      "text/plain": [
       "  student_id  rev\n",
       "0       1627  990\n",
       "1       3185  690"
      ]
     },
     "execution_count": 15,
     "metadata": {},
     "output_type": "execute_result"
    }
   ],
   "source": [
    "# Из одной колонки делаю две, разделяя информацию на student_id и rev, а также избавляюсь от хвоста:\n",
    "checks['student_id'] = checks['student_id;\"rev\"'].apply(lambda x: x.split(';')[0])\n",
    "checks['rev'] = checks['student_id;\"rev\"'].apply(lambda x: int(float(x.split(';')[1])))\n",
    "del checks['student_id;\"rev\"']\n",
    "checks.head(2)"
   ]
  },
  {
   "cell_type": "code",
   "execution_count": 16,
   "id": "43317551",
   "metadata": {},
   "outputs": [],
   "source": [
    "# привожу student_id  к числовому типу\n",
    "checks.student_id = pd.to_numeric(checks.student_id)"
   ]
  },
  {
   "cell_type": "markdown",
   "id": "0e6be7ae",
   "metadata": {},
   "source": [
    "У остальных колонок проблем нет. Но нужно еще сделать несколько преобразование перед мерджем.\n",
    "\n",
    "Во-первых, соединить таблицы `groups` и `groups_add` (так как `groups_add` это дополнение к `groups`), создав таблицу `grs`."
   ]
  },
  {
   "cell_type": "code",
   "execution_count": 17,
   "id": "5a7bb751",
   "metadata": {},
   "outputs": [],
   "source": [
    "grs = pd.concat([groups, groups_add], ignore_index=True)"
   ]
  },
  {
   "cell_type": "markdown",
   "id": "3d754502",
   "metadata": {},
   "source": [
    "Во-вторых, добавить колонку `active`в `active_studs`. Там в дальнейшем будет информация об активных/неактивных пользователях"
   ]
  },
  {
   "cell_type": "code",
   "execution_count": 18,
   "id": "a270958b",
   "metadata": {},
   "outputs": [],
   "source": [
    "active_studs['active'] = 1"
   ]
  },
  {
   "cell_type": "markdown",
   "id": "a462c5fa",
   "metadata": {},
   "source": [
    "А в-третьих, привести все айдишники к общему названию - по этой колонке и будем мерджить"
   ]
  },
  {
   "cell_type": "code",
   "execution_count": 19,
   "id": "527f7dc3",
   "metadata": {},
   "outputs": [],
   "source": [
    "active_studs.rename(columns={'student_id': 'id'}, inplace=True)\n",
    "checks.rename(columns={'student_id': 'id'}, inplace=True)"
   ]
  },
  {
   "cell_type": "markdown",
   "id": "6e6b3a91",
   "metadata": {},
   "source": [
    "Теперь можно мерджить"
   ]
  },
  {
   "cell_type": "code",
   "execution_count": 20,
   "id": "9ec3cf74",
   "metadata": {},
   "outputs": [
    {
     "data": {
      "text/html": [
       "<div>\n",
       "<style scoped>\n",
       "    .dataframe tbody tr th:only-of-type {\n",
       "        vertical-align: middle;\n",
       "    }\n",
       "\n",
       "    .dataframe tbody tr th {\n",
       "        vertical-align: top;\n",
       "    }\n",
       "\n",
       "    .dataframe thead th {\n",
       "        text-align: right;\n",
       "    }\n",
       "</style>\n",
       "<table border=\"1\" class=\"dataframe\">\n",
       "  <thead>\n",
       "    <tr style=\"text-align: right;\">\n",
       "      <th></th>\n",
       "      <th>id</th>\n",
       "      <th>grp</th>\n",
       "      <th>active</th>\n",
       "      <th>rev</th>\n",
       "    </tr>\n",
       "  </thead>\n",
       "  <tbody>\n",
       "    <tr>\n",
       "      <th>0</th>\n",
       "      <td>1489</td>\n",
       "      <td>B</td>\n",
       "      <td>NaN</td>\n",
       "      <td>NaN</td>\n",
       "    </tr>\n",
       "    <tr>\n",
       "      <th>1</th>\n",
       "      <td>1627</td>\n",
       "      <td>A</td>\n",
       "      <td>1.0</td>\n",
       "      <td>990.0</td>\n",
       "    </tr>\n",
       "    <tr>\n",
       "      <th>2</th>\n",
       "      <td>1768</td>\n",
       "      <td>B</td>\n",
       "      <td>NaN</td>\n",
       "      <td>NaN</td>\n",
       "    </tr>\n",
       "  </tbody>\n",
       "</table>\n",
       "</div>"
      ],
      "text/plain": [
       "     id grp  active    rev\n",
       "0  1489   B     NaN    NaN\n",
       "1  1627   A     1.0  990.0\n",
       "2  1768   B     NaN    NaN"
      ]
     },
     "execution_count": 20,
     "metadata": {},
     "output_type": "execute_result"
    }
   ],
   "source": [
    "grs = grs.merge(active_studs, on='id', how='left')\n",
    "grs = grs.merge(checks, on='id', how='left')\n",
    "grs.head(3)"
   ]
  },
  {
   "cell_type": "code",
   "execution_count": 21,
   "id": "422a7d06",
   "metadata": {},
   "outputs": [
    {
     "data": {
      "text/html": [
       "<div>\n",
       "<style scoped>\n",
       "    .dataframe tbody tr th:only-of-type {\n",
       "        vertical-align: middle;\n",
       "    }\n",
       "\n",
       "    .dataframe tbody tr th {\n",
       "        vertical-align: top;\n",
       "    }\n",
       "\n",
       "    .dataframe thead th {\n",
       "        text-align: right;\n",
       "    }\n",
       "</style>\n",
       "<table border=\"1\" class=\"dataframe\">\n",
       "  <thead>\n",
       "    <tr style=\"text-align: right;\">\n",
       "      <th></th>\n",
       "      <th>id</th>\n",
       "      <th>grp</th>\n",
       "      <th>active</th>\n",
       "      <th>rev</th>\n",
       "    </tr>\n",
       "  </thead>\n",
       "  <tbody>\n",
       "    <tr>\n",
       "      <th>0</th>\n",
       "      <td>1489</td>\n",
       "      <td>B</td>\n",
       "      <td>0</td>\n",
       "      <td>0</td>\n",
       "    </tr>\n",
       "    <tr>\n",
       "      <th>1</th>\n",
       "      <td>1627</td>\n",
       "      <td>A</td>\n",
       "      <td>1</td>\n",
       "      <td>990</td>\n",
       "    </tr>\n",
       "  </tbody>\n",
       "</table>\n",
       "</div>"
      ],
      "text/plain": [
       "     id grp  active  rev\n",
       "0  1489   B       0    0\n",
       "1  1627   A       1  990"
      ]
     },
     "execution_count": 21,
     "metadata": {},
     "output_type": "execute_result"
    }
   ],
   "source": [
    "# Заменяем NaN на нули и приводим данные \"active\" и \"rev\" к удобному числовому формату\n",
    "grs.loc[grs.active.isna(), 'active'] = 0\n",
    "grs.loc[grs.rev.isna(), 'rev'] = 0\n",
    "grs.active = pd.to_numeric(grs.active, downcast='integer')\n",
    "grs.rev = pd.to_numeric(grs.rev, downcast='integer')\n",
    "grs.head(2)"
   ]
  },
  {
   "cell_type": "markdown",
   "id": "590fedc4",
   "metadata": {},
   "source": [
    "Посмотрим внимательно на получившуюся таблица `grs`. Часть из тех, кто зашел на сайт во время эксперимента (active = 1), оплатили. Но есть и те, кто не заходил на сайт во время эксперимента, но тоже оплатили:"
   ]
  },
  {
   "cell_type": "code",
   "execution_count": 22,
   "id": "41a37cc2",
   "metadata": {},
   "outputs": [
    {
     "data": {
      "text/html": [
       "<div>\n",
       "<style scoped>\n",
       "    .dataframe tbody tr th:only-of-type {\n",
       "        vertical-align: middle;\n",
       "    }\n",
       "\n",
       "    .dataframe tbody tr th {\n",
       "        vertical-align: top;\n",
       "    }\n",
       "\n",
       "    .dataframe thead th {\n",
       "        text-align: right;\n",
       "    }\n",
       "</style>\n",
       "<table border=\"1\" class=\"dataframe\">\n",
       "  <thead>\n",
       "    <tr style=\"text-align: right;\">\n",
       "      <th></th>\n",
       "      <th>id</th>\n",
       "      <th>grp</th>\n",
       "      <th>active</th>\n",
       "      <th>rev</th>\n",
       "    </tr>\n",
       "  </thead>\n",
       "  <tbody>\n",
       "    <tr>\n",
       "      <th>39</th>\n",
       "      <td>3185</td>\n",
       "      <td>B</td>\n",
       "      <td>0</td>\n",
       "      <td>690</td>\n",
       "    </tr>\n",
       "    <tr>\n",
       "      <th>121</th>\n",
       "      <td>25973</td>\n",
       "      <td>B</td>\n",
       "      <td>0</td>\n",
       "      <td>690</td>\n",
       "    </tr>\n",
       "    <tr>\n",
       "      <th>125</th>\n",
       "      <td>26280</td>\n",
       "      <td>B</td>\n",
       "      <td>0</td>\n",
       "      <td>690</td>\n",
       "    </tr>\n",
       "    <tr>\n",
       "      <th>223</th>\n",
       "      <td>100645</td>\n",
       "      <td>B</td>\n",
       "      <td>0</td>\n",
       "      <td>630</td>\n",
       "    </tr>\n",
       "    <tr>\n",
       "      <th>254</th>\n",
       "      <td>102534</td>\n",
       "      <td>B</td>\n",
       "      <td>0</td>\n",
       "      <td>580</td>\n",
       "    </tr>\n",
       "    <tr>\n",
       "      <th>...</th>\n",
       "      <td>...</td>\n",
       "      <td>...</td>\n",
       "      <td>...</td>\n",
       "      <td>...</td>\n",
       "    </tr>\n",
       "    <tr>\n",
       "      <th>72452</th>\n",
       "      <td>5291900</td>\n",
       "      <td>B</td>\n",
       "      <td>0</td>\n",
       "      <td>199</td>\n",
       "    </tr>\n",
       "    <tr>\n",
       "      <th>72753</th>\n",
       "      <td>5331842</td>\n",
       "      <td>B</td>\n",
       "      <td>0</td>\n",
       "      <td>290</td>\n",
       "    </tr>\n",
       "    <tr>\n",
       "      <th>73632</th>\n",
       "      <td>5486319</td>\n",
       "      <td>B</td>\n",
       "      <td>0</td>\n",
       "      <td>199</td>\n",
       "    </tr>\n",
       "    <tr>\n",
       "      <th>74049</th>\n",
       "      <td>5562806</td>\n",
       "      <td>B</td>\n",
       "      <td>0</td>\n",
       "      <td>398</td>\n",
       "    </tr>\n",
       "    <tr>\n",
       "      <th>74216</th>\n",
       "      <td>5599663</td>\n",
       "      <td>B</td>\n",
       "      <td>0</td>\n",
       "      <td>1900</td>\n",
       "    </tr>\n",
       "  </tbody>\n",
       "</table>\n",
       "<p>149 rows × 4 columns</p>\n",
       "</div>"
      ],
      "text/plain": [
       "            id grp  active   rev\n",
       "39        3185   B       0   690\n",
       "121      25973   B       0   690\n",
       "125      26280   B       0   690\n",
       "223     100645   B       0   630\n",
       "254     102534   B       0   580\n",
       "...        ...  ..     ...   ...\n",
       "72452  5291900   B       0   199\n",
       "72753  5331842   B       0   290\n",
       "73632  5486319   B       0   199\n",
       "74049  5562806   B       0   398\n",
       "74216  5599663   B       0  1900\n",
       "\n",
       "[149 rows x 4 columns]"
      ]
     },
     "execution_count": 22,
     "metadata": {},
     "output_type": "execute_result"
    }
   ],
   "source": [
    "# таких 149 человек:\n",
    "grs.query(\"rev != 0 and active == 0\")"
   ]
  },
  {
   "cell_type": "markdown",
   "id": "d89e3837",
   "metadata": {},
   "source": [
    "Их немного, и можно предположить, что у них сессия взаимодействия с сайтом началась раньше старта эксперимента. Поэтому система не посчитала их заход на сайт, но посчитала покупку, так как покупка произошла уже во время эксперимента.\n",
    "\n",
    "Таких нужно удалить ибо они по сути не участвовали в эксперименте. Но тут встает вопрос: а что делать с теми из них, кого отнесли к контрольной группе? Ведь они, получается, видели старую версию оплаты, а значит могут считаться частью контрольной группы. НО! Они это делали ДО эксперимента, а поэтому, строго говоря, их нельзя относить к эсперименту хотя бы потому, что они дейстовали в другом временном промежутке. Поэтому просто исключаем."
   ]
  },
  {
   "cell_type": "code",
   "execution_count": 23,
   "id": "14ac463f",
   "metadata": {},
   "outputs": [],
   "source": [
    "out_of_experiment = grs.query(\"rev != 0 and active == 0\").id"
   ]
  },
  {
   "cell_type": "code",
   "execution_count": 24,
   "id": "9d4dfd4c",
   "metadata": {},
   "outputs": [],
   "source": [
    "grs = grs.query(\"id not in @out_of_experiment\")"
   ]
  },
  {
   "cell_type": "markdown",
   "id": "b753c0cb",
   "metadata": {},
   "source": [
    "### А/Б тест"
   ]
  },
  {
   "cell_type": "markdown",
   "id": "d5881a65",
   "metadata": {},
   "source": [
    "Итак, у нас есть таблица, с которой можно работать и анализировать итоги А/Б теста"
   ]
  },
  {
   "cell_type": "code",
   "execution_count": 25,
   "id": "519933db",
   "metadata": {},
   "outputs": [
    {
     "data": {
      "text/html": [
       "<div>\n",
       "<style scoped>\n",
       "    .dataframe tbody tr th:only-of-type {\n",
       "        vertical-align: middle;\n",
       "    }\n",
       "\n",
       "    .dataframe tbody tr th {\n",
       "        vertical-align: top;\n",
       "    }\n",
       "\n",
       "    .dataframe thead th {\n",
       "        text-align: right;\n",
       "    }\n",
       "</style>\n",
       "<table border=\"1\" class=\"dataframe\">\n",
       "  <thead>\n",
       "    <tr style=\"text-align: right;\">\n",
       "      <th></th>\n",
       "      <th>id</th>\n",
       "      <th>grp</th>\n",
       "      <th>active</th>\n",
       "      <th>rev</th>\n",
       "    </tr>\n",
       "  </thead>\n",
       "  <tbody>\n",
       "    <tr>\n",
       "      <th>0</th>\n",
       "      <td>1489</td>\n",
       "      <td>B</td>\n",
       "      <td>0</td>\n",
       "      <td>0</td>\n",
       "    </tr>\n",
       "    <tr>\n",
       "      <th>1</th>\n",
       "      <td>1627</td>\n",
       "      <td>A</td>\n",
       "      <td>1</td>\n",
       "      <td>990</td>\n",
       "    </tr>\n",
       "    <tr>\n",
       "      <th>2</th>\n",
       "      <td>1768</td>\n",
       "      <td>B</td>\n",
       "      <td>0</td>\n",
       "      <td>0</td>\n",
       "    </tr>\n",
       "  </tbody>\n",
       "</table>\n",
       "</div>"
      ],
      "text/plain": [
       "     id grp  active  rev\n",
       "0  1489   B       0    0\n",
       "1  1627   A       1  990\n",
       "2  1768   B       0    0"
      ]
     },
     "execution_count": 25,
     "metadata": {},
     "output_type": "execute_result"
    }
   ],
   "source": [
    "grs.head(3)"
   ]
  },
  {
   "cell_type": "markdown",
   "id": "b216c227",
   "metadata": {},
   "source": [
    "Можно выделить три уровня пользователей: все, активные (кто зашел на сайт) и купившие.\n",
    "\n",
    "На что могло повлиять обновление страницы оплаты на сайте? На конверсию в покупку и на доход. Это и будем проверять. Для этого используем метрики:\n",
    "* CR активных в покупку\n",
    "* ARPU в широком смысле. \n",
    "\n",
    "В рамках ARPU посмотрим на:\n",
    "* ARPPU (здесь это средний доход на заплатившего пользователя). Позволит понять, есть ли влияние на суммы, которые в среднем потратили оплатившие пользователи\n",
    "* ARPAU - более общая метрика, по сути включит в себя еще и влияние CR\n",
    "* И, собственно, ARPU - поможет оценить общий эффект от изменений (если он есть)"
   ]
  },
  {
   "cell_type": "markdown",
   "id": "2de7de6f",
   "metadata": {},
   "source": [
    "#### Начнем с активных"
   ]
  },
  {
   "cell_type": "code",
   "execution_count": 26,
   "id": "eaa558ce",
   "metadata": {},
   "outputs": [],
   "source": [
    "# таблица с активными\n",
    "active = grs.query(\"active == 1\").copy()"
   ]
  },
  {
   "cell_type": "markdown",
   "id": "aa2ae05a",
   "metadata": {},
   "source": [
    "#### Посмотрим разницу между CR обеих групп"
   ]
  },
  {
   "cell_type": "code",
   "execution_count": 27,
   "id": "e95ffc9f",
   "metadata": {},
   "outputs": [
    {
     "data": {
      "text/html": [
       "<div>\n",
       "<style scoped>\n",
       "    .dataframe tbody tr th:only-of-type {\n",
       "        vertical-align: middle;\n",
       "    }\n",
       "\n",
       "    .dataframe tbody tr th {\n",
       "        vertical-align: top;\n",
       "    }\n",
       "\n",
       "    .dataframe thead th {\n",
       "        text-align: right;\n",
       "    }\n",
       "</style>\n",
       "<table border=\"1\" class=\"dataframe\">\n",
       "  <thead>\n",
       "    <tr style=\"text-align: right;\">\n",
       "      <th></th>\n",
       "      <th>id</th>\n",
       "      <th>grp</th>\n",
       "      <th>rev</th>\n",
       "    </tr>\n",
       "  </thead>\n",
       "  <tbody>\n",
       "    <tr>\n",
       "      <th>1</th>\n",
       "      <td>1627</td>\n",
       "      <td>A</td>\n",
       "      <td>990</td>\n",
       "    </tr>\n",
       "    <tr>\n",
       "      <th>10</th>\n",
       "      <td>2085</td>\n",
       "      <td>B</td>\n",
       "      <td>0</td>\n",
       "    </tr>\n",
       "  </tbody>\n",
       "</table>\n",
       "</div>"
      ],
      "text/plain": [
       "      id grp  rev\n",
       "1   1627   A  990\n",
       "10  2085   B    0"
      ]
     },
     "execution_count": 27,
     "metadata": {},
     "output_type": "execute_result"
    }
   ],
   "source": [
    "# таблица для оценки CR\n",
    "active_exp1 = active.loc[:, ['id', 'grp', 'rev']]\n",
    "active_exp1.head(2)"
   ]
  },
  {
   "cell_type": "markdown",
   "id": "45d8e631",
   "metadata": {},
   "source": [
    "Добавим категориальную переменную \"purhase\", которая будет принимать два значения: 1 (купил) и 0 (не купил)."
   ]
  },
  {
   "cell_type": "code",
   "execution_count": 28,
   "id": "64ea06a0",
   "metadata": {},
   "outputs": [
    {
     "data": {
      "text/html": [
       "<div>\n",
       "<style scoped>\n",
       "    .dataframe tbody tr th:only-of-type {\n",
       "        vertical-align: middle;\n",
       "    }\n",
       "\n",
       "    .dataframe tbody tr th {\n",
       "        vertical-align: top;\n",
       "    }\n",
       "\n",
       "    .dataframe thead th {\n",
       "        text-align: right;\n",
       "    }\n",
       "</style>\n",
       "<table border=\"1\" class=\"dataframe\">\n",
       "  <thead>\n",
       "    <tr style=\"text-align: right;\">\n",
       "      <th></th>\n",
       "      <th>id</th>\n",
       "      <th>grp</th>\n",
       "      <th>purhase</th>\n",
       "    </tr>\n",
       "  </thead>\n",
       "  <tbody>\n",
       "    <tr>\n",
       "      <th>1</th>\n",
       "      <td>1627</td>\n",
       "      <td>A</td>\n",
       "      <td>1</td>\n",
       "    </tr>\n",
       "    <tr>\n",
       "      <th>10</th>\n",
       "      <td>2085</td>\n",
       "      <td>B</td>\n",
       "      <td>0</td>\n",
       "    </tr>\n",
       "  </tbody>\n",
       "</table>\n",
       "</div>"
      ],
      "text/plain": [
       "      id grp  purhase\n",
       "1   1627   A        1\n",
       "10  2085   B        0"
      ]
     },
     "execution_count": 28,
     "metadata": {},
     "output_type": "execute_result"
    }
   ],
   "source": [
    "active_exp1['purhase'] = active_exp1.rev.apply(lambda x: 1 if x > 0 else 0)\n",
    "del active_exp1['rev']  # удалим rev, чтоб не мешалась\n",
    "active_exp1.head(2)"
   ]
  },
  {
   "cell_type": "code",
   "execution_count": 29,
   "id": "96dae4f8",
   "metadata": {},
   "outputs": [
    {
     "data": {
      "text/plain": [
       "0.05071521456436931"
      ]
     },
     "execution_count": 29,
     "metadata": {},
     "output_type": "execute_result"
    }
   ],
   "source": [
    "active_exp1.query(\"grp == 'A'\").purhase.mean()  # средний CR группы \"А\""
   ]
  },
  {
   "cell_type": "code",
   "execution_count": 30,
   "id": "de91b56b",
   "metadata": {},
   "outputs": [
    {
     "data": {
      "text/plain": [
       "0.046156107599588415"
      ]
     },
     "execution_count": 30,
     "metadata": {},
     "output_type": "execute_result"
    }
   ],
   "source": [
    "active_exp1.query(\"grp == 'B'\").purhase.mean()  # средний CR группы \"В\""
   ]
  },
  {
   "cell_type": "markdown",
   "id": "ebfae702",
   "metadata": {},
   "source": [
    "На первый взгляд конверсии различаются, хоть и незначительно. Проверим, статзначимое ли это различие. Переменные здесь категориальные, поэтому используем хи-квадрат или критерий согласия Пирсона."
   ]
  },
  {
   "cell_type": "code",
   "execution_count": 31,
   "id": "15fb8629",
   "metadata": {},
   "outputs": [
    {
     "data": {
      "text/html": [
       "<div>\n",
       "<style scoped>\n",
       "    .dataframe tbody tr th:only-of-type {\n",
       "        vertical-align: middle;\n",
       "    }\n",
       "\n",
       "    .dataframe tbody tr th {\n",
       "        vertical-align: top;\n",
       "    }\n",
       "\n",
       "    .dataframe thead th {\n",
       "        text-align: right;\n",
       "    }\n",
       "</style>\n",
       "<table border=\"1\" class=\"dataframe\">\n",
       "  <thead>\n",
       "    <tr style=\"text-align: right;\">\n",
       "      <th>purhase</th>\n",
       "      <th>0</th>\n",
       "      <th>1</th>\n",
       "    </tr>\n",
       "    <tr>\n",
       "      <th>grp</th>\n",
       "      <th></th>\n",
       "      <th></th>\n",
       "    </tr>\n",
       "  </thead>\n",
       "  <tbody>\n",
       "    <tr>\n",
       "      <th>A</th>\n",
       "      <td>1460</td>\n",
       "      <td>78</td>\n",
       "    </tr>\n",
       "    <tr>\n",
       "      <th>B</th>\n",
       "      <td>6489</td>\n",
       "      <td>314</td>\n",
       "    </tr>\n",
       "  </tbody>\n",
       "</table>\n",
       "</div>"
      ],
      "text/plain": [
       "purhase     0    1\n",
       "grp               \n",
       "A        1460   78\n",
       "B        6489  314"
      ]
     },
     "execution_count": 31,
     "metadata": {},
     "output_type": "execute_result"
    }
   ],
   "source": [
    "pd.crosstab(active_exp1.grp, active_exp1.purhase)  # строим таблицу сопряженности"
   ]
  },
  {
   "cell_type": "code",
   "execution_count": 32,
   "id": "458148ef",
   "metadata": {},
   "outputs": [
    {
     "data": {
      "text/plain": [
       "0.48625240457231045"
      ]
     },
     "execution_count": 32,
     "metadata": {},
     "output_type": "execute_result"
    }
   ],
   "source": [
    "st.chi2_contingency(pd.crosstab(active_exp1.grp, active_exp1.purhase))[1]  # p-value"
   ]
  },
  {
   "cell_type": "markdown",
   "id": "9f7d1f75",
   "metadata": {},
   "source": [
    "P-value больше α любых традиционных уровней значимости. Cтатистически значимые результаты не получены. То есть, мы не можем отклонить нулевую гипотезу о том, что нет никакой зависимости между принадлежности к группе и CR активных пользователей в покупку. А значит будем считать, что различий в CR нет."
   ]
  },
  {
   "cell_type": "markdown",
   "id": "742cbd56",
   "metadata": {},
   "source": [
    "#### Посмотрим разницу между ARPPU обеих групп"
   ]
  },
  {
   "cell_type": "code",
   "execution_count": 33,
   "id": "779b54f8",
   "metadata": {},
   "outputs": [
    {
     "data": {
      "text/html": [
       "<div>\n",
       "<style scoped>\n",
       "    .dataframe tbody tr th:only-of-type {\n",
       "        vertical-align: middle;\n",
       "    }\n",
       "\n",
       "    .dataframe tbody tr th {\n",
       "        vertical-align: top;\n",
       "    }\n",
       "\n",
       "    .dataframe thead th {\n",
       "        text-align: right;\n",
       "    }\n",
       "</style>\n",
       "<table border=\"1\" class=\"dataframe\">\n",
       "  <thead>\n",
       "    <tr style=\"text-align: right;\">\n",
       "      <th></th>\n",
       "      <th>id</th>\n",
       "      <th>grp</th>\n",
       "      <th>rev</th>\n",
       "    </tr>\n",
       "  </thead>\n",
       "  <tbody>\n",
       "    <tr>\n",
       "      <th>1</th>\n",
       "      <td>1627</td>\n",
       "      <td>A</td>\n",
       "      <td>990</td>\n",
       "    </tr>\n",
       "    <tr>\n",
       "      <th>220</th>\n",
       "      <td>100300</td>\n",
       "      <td>B</td>\n",
       "      <td>990</td>\n",
       "    </tr>\n",
       "    <tr>\n",
       "      <th>320</th>\n",
       "      <td>108270</td>\n",
       "      <td>B</td>\n",
       "      <td>290</td>\n",
       "    </tr>\n",
       "  </tbody>\n",
       "</table>\n",
       "</div>"
      ],
      "text/plain": [
       "         id grp  rev\n",
       "1      1627   A  990\n",
       "220  100300   B  990\n",
       "320  108270   B  290"
      ]
     },
     "execution_count": 33,
     "metadata": {},
     "output_type": "execute_result"
    }
   ],
   "source": [
    "# таблица для оценки ARPPU\n",
    "active_exp2 = active.loc[:, ['id', 'grp', 'rev']].copy()\n",
    "active_exp2 = active_exp2.query(\"rev != 0\")\n",
    "active_exp2.head(3)"
   ]
  },
  {
   "cell_type": "markdown",
   "id": "9cc517e6",
   "metadata": {},
   "source": [
    "Посмотрим на распределение оплат в разных группах"
   ]
  },
  {
   "cell_type": "code",
   "execution_count": 34,
   "id": "29cfcdd6",
   "metadata": {},
   "outputs": [
    {
     "data": {
      "image/png": "[encoded data removed]",
      "text/plain": [
       "<Figure size 640x480 with 1 Axes>"
      ]
     },
     "metadata": {},
     "output_type": "display_data"
    }
   ],
   "source": [
    "ax = sns.histplot(data=active_exp2, \n",
    "                  x='rev', \n",
    "                  hue='grp', \n",
    "                  bins=20, \n",
    "                  stat=\"density\", \n",
    "                  common_norm=False)\n",
    "ax.set(title='Распределение оплат в обеих группах', xlabel='Размеры оплат')\n",
    "ax.legend_.set_title('Группы')"
   ]
  },
  {
   "cell_type": "markdown",
   "id": "8d21e847",
   "metadata": {},
   "source": [
    "В глаза бросается столбик с оплатами около 2000 в группе B."
   ]
  },
  {
   "cell_type": "markdown",
   "id": "e1ca12ec",
   "metadata": {},
   "source": [
    "Посмотрим какие оплаты преобладали в разных группах."
   ]
  },
  {
   "cell_type": "code",
   "execution_count": 35,
   "id": "7eba2449",
   "metadata": {},
   "outputs": [
    {
     "data": {
      "text/plain": [
       "290    25\n",
       "580     6\n",
       "990     5\n",
       "199     5\n",
       "590     5\n",
       "Name: rev, dtype: int64"
      ]
     },
     "execution_count": 35,
     "metadata": {},
     "output_type": "execute_result"
    }
   ],
   "source": [
    "active_exp2.query(\"grp == 'A'\").rev.value_counts().head()"
   ]
  },
  {
   "cell_type": "code",
   "execution_count": 36,
   "id": "803ecba3",
   "metadata": {},
   "outputs": [
    {
     "data": {
      "text/plain": [
       "1900    128\n",
       "290      45\n",
       "199      27\n",
       "840      21\n",
       "990      17\n",
       "Name: rev, dtype: int64"
      ]
     },
     "execution_count": 36,
     "metadata": {},
     "output_type": "execute_result"
    }
   ],
   "source": [
    "active_exp2.query(\"grp == 'B'\").rev.value_counts().head()"
   ]
  },
  {
   "cell_type": "code",
   "execution_count": 37,
   "id": "c9bc796a",
   "metadata": {},
   "outputs": [
    {
     "data": {
      "text/plain": [
       "array([ 990, 1830, 2910, 2820, 3660,  580, 2900, 1980,  290, 1160, 1530,\n",
       "        398,  690, 1140,  840,  199,  489,  590, 2220, 1180, 2890, 1039,\n",
       "        870], dtype=int16)"
      ]
     },
     "execution_count": 37,
     "metadata": {},
     "output_type": "execute_result"
    }
   ],
   "source": [
    "active_exp2.query(\"grp == 'A' and rev != 0\").rev.unique()"
   ]
  },
  {
   "cell_type": "markdown",
   "id": "5c50b8a9",
   "metadata": {},
   "source": [
    "Видим, что оплата в 1900 была очень популярна в группе B. При этом в группе A таких оплат не было вовсе.\n",
    "\n",
    "Такой столбик в группе B явно должен повлиять на результаты. Посмотрим!"
   ]
  },
  {
   "cell_type": "markdown",
   "id": "4f897a17",
   "metadata": {},
   "source": [
    "Как видим из предыдущего графика, данные далеки от нормальных. По идее, можно использовать тест Манна-Уитни. Но в наших данных очень много повторяющихся значений, что не очень хорошо сказывается на тесте Манна-Уитни. Поэтому лучше будем использовать Бутстрап. Он всеяден. Его основная проблема - потребляет много ресурсов. Но так как датасет у нас относительно небольшой, то Бутстрап в нашем случае пройдет легко."
   ]
  },
  {
   "cell_type": "markdown",
   "id": "85ae431a",
   "metadata": {},
   "source": [
    "#### Объявим функцию бутстрапирования:"
   ]
  },
  {
   "cell_type": "code",
   "execution_count": 38,
   "id": "f1079739",
   "metadata": {},
   "outputs": [],
   "source": [
    "def get_bootstrap(data_column_1, data_column_2, boot_it=1000, statistic=np.mean, bootstrap_conf_level=0.95,\n",
    "                  plot='on', seed=None):\n",
    "    if seed:\n",
    "        np.random.seed(seed)\n",
    "        \n",
    "    boot_len = max([len(data_column_1), len(data_column_2)])\n",
    "    \n",
    "    boot_data = []\n",
    "\n",
    "    for i in range(boot_it):  # извлекаем подвыборки\n",
    "        samples_1 = data_column_1.sample(boot_len, replace=True).values\n",
    "        samples_2 = data_column_2.sample(boot_len, replace=True).values\n",
    "        \n",
    "        boot_data.append(statistic(samples_1) - statistic(samples_2))  # применяем статистику\n",
    "        \n",
    "    pd_boot_data = pd.DataFrame(boot_data)\n",
    "        \n",
    "    left_quant = (1 - bootstrap_conf_level) / 2\n",
    "    right_quant = 1 - (1 - bootstrap_conf_level) / 2\n",
    "    quants = pd_boot_data.quantile([left_quant, right_quant])\n",
    "        \n",
    "    p_1 = st.norm.cdf(x=0, loc=np.mean(boot_data), scale=np.std(boot_data))\n",
    "    p_2 = st.norm.cdf(x=0, loc=-np.mean(boot_data), scale=np.std(boot_data))\n",
    "    p_value = min(p_1, p_2) * 2\n",
    "        \n",
    "    # Визуализация\n",
    "    if plot == 'on':\n",
    "        _, _, bars = plt.hist(pd_boot_data[0], bins=50)\n",
    "        for bar in bars:\n",
    "            if bar.get_x() <= quants.iloc[0][0] or bar.get_x() >= quants.iloc[1][0]:\n",
    "                bar.set_facecolor('red')\n",
    "            else: \n",
    "                bar.set_facecolor('grey')\n",
    "                bar.set_edgecolor('black')\n",
    "\n",
    "        plt.style.use('ggplot')\n",
    "        plt.vlines(quants, ymin=0, ymax=500, linestyle='--')\n",
    "        plt.xlabel('boot_data')\n",
    "        plt.ylabel('frequency')\n",
    "        plt.title(\"Histogram of boot_data\")\n",
    "        plt.show()\n",
    "       \n",
    "    return {\"boot_data\": boot_data, \"quants\": quants, \"p_value\": p_value}"
   ]
  },
  {
   "cell_type": "markdown",
   "id": "c6fb850a",
   "metadata": {},
   "source": [
    "#### Бутстрап ARPPU"
   ]
  },
  {
   "cell_type": "code",
   "execution_count": 39,
   "id": "3f7f13d3",
   "metadata": {},
   "outputs": [],
   "source": [
    "a = active_exp2.query(\"grp == 'A'\").rev\n",
    "b = active_exp2.query(\"grp == 'B'\").rev"
   ]
  },
  {
   "cell_type": "code",
   "execution_count": 40,
   "id": "63d3773f",
   "metadata": {},
   "outputs": [
    {
     "data": {
      "text/plain": [
       "933.5897435897435"
      ]
     },
     "execution_count": 40,
     "metadata": {},
     "output_type": "execute_result"
    }
   ],
   "source": [
    "a.mean()  # ARPPU  в группе А"
   ]
  },
  {
   "cell_type": "code",
   "execution_count": 41,
   "id": "bec53100",
   "metadata": {},
   "outputs": [
    {
     "data": {
      "text/plain": [
       "1257.8789808917197"
      ]
     },
     "execution_count": 41,
     "metadata": {},
     "output_type": "execute_result"
    }
   ],
   "source": [
    "b.mean()  # ARPPU  в группе B"
   ]
  },
  {
   "cell_type": "markdown",
   "id": "ca36d4b5",
   "metadata": {},
   "source": [
    "Видно, что ARPPU в группах различаются. Но статзначимо ли это различие?"
   ]
  },
  {
   "cell_type": "code",
   "execution_count": 42,
   "id": "6051a493",
   "metadata": {},
   "outputs": [
    {
     "data": {
      "image/png": "[encoded data removed]",
      "text/plain": [
       "<Figure size 640x480 with 1 Axes>"
      ]
     },
     "metadata": {},
     "output_type": "display_data"
    }
   ],
   "source": [
    "bootstrap = get_bootstrap(a, b, bootstrap_conf_level=0.99, boot_it=10000, seed=5)"
   ]
  },
  {
   "cell_type": "code",
   "execution_count": 43,
   "id": "83f07f62",
   "metadata": {},
   "outputs": [
    {
     "data": {
      "text/plain": [
       "1.8724489828874039e-06"
      ]
     },
     "execution_count": 43,
     "metadata": {},
     "output_type": "execute_result"
    }
   ],
   "source": [
    "bootstrap['p_value']"
   ]
  },
  {
   "cell_type": "markdown",
   "id": "c462bec4",
   "metadata": {},
   "source": [
    "Различия оказались статзначимы, причем p-value очень низкое, что дает основания отклонить нулевую гепотезу и принять альтернативную, что различия ARPPU между группами есть.\n",
    "\n",
    "Но вот тот столбик из оплат в 1900 не дает покоя. Что, если проверить, есть ли разница без него? Проверим!"
   ]
  },
  {
   "cell_type": "markdown",
   "id": "9a5680c0",
   "metadata": {},
   "source": [
    "#### Бутстрап ARPPU без 1900"
   ]
  },
  {
   "cell_type": "code",
   "execution_count": 44,
   "id": "4850c820",
   "metadata": {},
   "outputs": [],
   "source": [
    "active_exp2_clean = active_exp2.query(\"rev != 1900\")  # таблица для ARPPU БЕЗ 1900"
   ]
  },
  {
   "cell_type": "code",
   "execution_count": 45,
   "id": "2f1ab98e",
   "metadata": {},
   "outputs": [],
   "source": [
    "a = active_exp2_clean.query(\"grp == 'A'\").rev\n",
    "b = active_exp2_clean.query(\"grp == 'B'\").rev"
   ]
  },
  {
   "cell_type": "code",
   "execution_count": 46,
   "id": "77ee7ab2",
   "metadata": {},
   "outputs": [
    {
     "data": {
      "text/plain": [
       "933.5897435897435"
      ]
     },
     "execution_count": 46,
     "metadata": {},
     "output_type": "execute_result"
    }
   ],
   "source": [
    "a.mean()"
   ]
  },
  {
   "cell_type": "code",
   "execution_count": 47,
   "id": "e71426c6",
   "metadata": {},
   "outputs": [
    {
     "data": {
      "text/plain": [
       "815.989247311828"
      ]
     },
     "execution_count": 47,
     "metadata": {},
     "output_type": "execute_result"
    }
   ],
   "source": [
    "b.mean()"
   ]
  },
  {
   "cell_type": "code",
   "execution_count": 48,
   "id": "26dc9261",
   "metadata": {},
   "outputs": [
    {
     "data": {
      "image/png": "[encoded data removed]",
      "text/plain": [
       "<Figure size 640x480 with 1 Axes>"
      ]
     },
     "metadata": {},
     "output_type": "display_data"
    }
   ],
   "source": [
    "bootstrap = get_bootstrap(a, b, boot_it=10000, seed=5)"
   ]
  },
  {
   "cell_type": "code",
   "execution_count": 49,
   "id": "9dd6289f",
   "metadata": {},
   "outputs": [
    {
     "data": {
      "text/html": [
       "<div>\n",
       "<style scoped>\n",
       "    .dataframe tbody tr th:only-of-type {\n",
       "        vertical-align: middle;\n",
       "    }\n",
       "\n",
       "    .dataframe tbody tr th {\n",
       "        vertical-align: top;\n",
       "    }\n",
       "\n",
       "    .dataframe thead th {\n",
       "        text-align: right;\n",
       "    }\n",
       "</style>\n",
       "<table border=\"1\" class=\"dataframe\">\n",
       "  <thead>\n",
       "    <tr style=\"text-align: right;\">\n",
       "      <th></th>\n",
       "      <th>0</th>\n",
       "    </tr>\n",
       "  </thead>\n",
       "  <tbody>\n",
       "    <tr>\n",
       "      <th>0.025</th>\n",
       "      <td>-52.951344</td>\n",
       "    </tr>\n",
       "    <tr>\n",
       "      <th>0.975</th>\n",
       "      <td>288.561962</td>\n",
       "    </tr>\n",
       "  </tbody>\n",
       "</table>\n",
       "</div>"
      ],
      "text/plain": [
       "                0\n",
       "0.025  -52.951344\n",
       "0.975  288.561962"
      ]
     },
     "execution_count": 49,
     "metadata": {},
     "output_type": "execute_result"
    }
   ],
   "source": [
    "bootstrap['quants']"
   ]
  },
  {
   "cell_type": "code",
   "execution_count": 50,
   "id": "2c02edb5",
   "metadata": {},
   "outputs": [
    {
     "data": {
      "text/plain": [
       "0.176042630190677"
      ]
     },
     "execution_count": 50,
     "metadata": {},
     "output_type": "execute_result"
    }
   ],
   "source": [
    "bootstrap['p_value']"
   ]
  },
  {
   "cell_type": "markdown",
   "id": "c104ed76",
   "metadata": {},
   "source": [
    "Разница не статзначима, нулевую гепотезу не отклоняем, то есть, различия в ARPPU без 1900 между группами найдено не было. Получается, что тот столбик объясняет всю разницу в ARPPU в пользу тестовой группы."
   ]
  },
  {
   "cell_type": "markdown",
   "id": "88417e1c",
   "metadata": {},
   "source": [
    "Идем дальше"
   ]
  },
  {
   "cell_type": "markdown",
   "id": "83fb440f",
   "metadata": {},
   "source": [
    "#### Бутстрап ARPAU"
   ]
  },
  {
   "cell_type": "code",
   "execution_count": 51,
   "id": "d3efa4fe",
   "metadata": {},
   "outputs": [
    {
     "data": {
      "text/html": [
       "<div>\n",
       "<style scoped>\n",
       "    .dataframe tbody tr th:only-of-type {\n",
       "        vertical-align: middle;\n",
       "    }\n",
       "\n",
       "    .dataframe tbody tr th {\n",
       "        vertical-align: top;\n",
       "    }\n",
       "\n",
       "    .dataframe thead th {\n",
       "        text-align: right;\n",
       "    }\n",
       "</style>\n",
       "<table border=\"1\" class=\"dataframe\">\n",
       "  <thead>\n",
       "    <tr style=\"text-align: right;\">\n",
       "      <th></th>\n",
       "      <th>id</th>\n",
       "      <th>grp</th>\n",
       "      <th>rev</th>\n",
       "    </tr>\n",
       "  </thead>\n",
       "  <tbody>\n",
       "    <tr>\n",
       "      <th>1</th>\n",
       "      <td>1627</td>\n",
       "      <td>A</td>\n",
       "      <td>990</td>\n",
       "    </tr>\n",
       "    <tr>\n",
       "      <th>10</th>\n",
       "      <td>2085</td>\n",
       "      <td>B</td>\n",
       "      <td>0</td>\n",
       "    </tr>\n",
       "    <tr>\n",
       "      <th>12</th>\n",
       "      <td>2215</td>\n",
       "      <td>B</td>\n",
       "      <td>0</td>\n",
       "    </tr>\n",
       "  </tbody>\n",
       "</table>\n",
       "</div>"
      ],
      "text/plain": [
       "      id grp  rev\n",
       "1   1627   A  990\n",
       "10  2085   B    0\n",
       "12  2215   B    0"
      ]
     },
     "execution_count": 51,
     "metadata": {},
     "output_type": "execute_result"
    }
   ],
   "source": [
    "active_exp3 = active.loc[:, ['id', 'grp', 'rev']]  # Таблица для оценки ARPAU\n",
    "active_exp3.head(3)"
   ]
  },
  {
   "cell_type": "code",
   "execution_count": 52,
   "id": "b12bbf41",
   "metadata": {},
   "outputs": [],
   "source": [
    "a = active_exp3.query(\"grp == 'A'\").rev\n",
    "b = active_exp3.query(\"grp == 'B'\").rev"
   ]
  },
  {
   "cell_type": "code",
   "execution_count": 53,
   "id": "e7258a90",
   "metadata": {},
   "outputs": [
    {
     "data": {
      "text/plain": [
       "47.34720416124838"
      ]
     },
     "execution_count": 53,
     "metadata": {},
     "output_type": "execute_result"
    }
   ],
   "source": [
    "a.mean()  # ARPAU группы \"А\""
   ]
  },
  {
   "cell_type": "code",
   "execution_count": 54,
   "id": "27bea1ec",
   "metadata": {},
   "outputs": [
    {
     "data": {
      "text/plain": [
       "58.05879758929884"
      ]
     },
     "execution_count": 54,
     "metadata": {},
     "output_type": "execute_result"
    }
   ],
   "source": [
    "b.mean()  # ARPAU группы \"B\""
   ]
  },
  {
   "cell_type": "code",
   "execution_count": 55,
   "id": "a0a77cf1",
   "metadata": {
    "scrolled": false
   },
   "outputs": [
    {
     "data": {
      "image/png": "[encoded data removed]",
      "text/plain": [
       "<Figure size 640x480 with 1 Axes>"
      ]
     },
     "metadata": {},
     "output_type": "display_data"
    }
   ],
   "source": [
    "bootstrap = get_bootstrap(a, b, bootstrap_conf_level=0.99, boot_it=10000, seed=5)"
   ]
  },
  {
   "cell_type": "code",
   "execution_count": 56,
   "id": "4c4c1df6",
   "metadata": {
    "scrolled": true
   },
   "outputs": [
    {
     "data": {
      "text/plain": [
       "0.037454943905315334"
      ]
     },
     "execution_count": 56,
     "metadata": {},
     "output_type": "execute_result"
    }
   ],
   "source": [
    "bootstrap['p_value']  # в ARPAU различий не увидели. UPD: почти увидел различия"
   ]
  },
  {
   "cell_type": "markdown",
   "id": "e8a5f5e6",
   "metadata": {},
   "source": [
    "Если принять уровень значимости 95%, то различия статзначимы. А при уровне значимости 99% результаты уже нельзя считать статзначимыми. Можно сказать, что различия почти не обнаружены или почти обнаружены. Уверенности в результатах нет."
   ]
  },
  {
   "cell_type": "markdown",
   "id": "1f87a318",
   "metadata": {},
   "source": [
    "#### Проверим теперь разницу в ARPU"
   ]
  },
  {
   "cell_type": "code",
   "execution_count": 57,
   "id": "995b60f4",
   "metadata": {},
   "outputs": [
    {
     "data": {
      "text/html": [
       "<div>\n",
       "<style scoped>\n",
       "    .dataframe tbody tr th:only-of-type {\n",
       "        vertical-align: middle;\n",
       "    }\n",
       "\n",
       "    .dataframe tbody tr th {\n",
       "        vertical-align: top;\n",
       "    }\n",
       "\n",
       "    .dataframe thead th {\n",
       "        text-align: right;\n",
       "    }\n",
       "</style>\n",
       "<table border=\"1\" class=\"dataframe\">\n",
       "  <thead>\n",
       "    <tr style=\"text-align: right;\">\n",
       "      <th></th>\n",
       "      <th>id</th>\n",
       "      <th>grp</th>\n",
       "      <th>rev</th>\n",
       "    </tr>\n",
       "  </thead>\n",
       "  <tbody>\n",
       "    <tr>\n",
       "      <th>0</th>\n",
       "      <td>1489</td>\n",
       "      <td>B</td>\n",
       "      <td>0</td>\n",
       "    </tr>\n",
       "    <tr>\n",
       "      <th>1</th>\n",
       "      <td>1627</td>\n",
       "      <td>A</td>\n",
       "      <td>990</td>\n",
       "    </tr>\n",
       "    <tr>\n",
       "      <th>2</th>\n",
       "      <td>1768</td>\n",
       "      <td>B</td>\n",
       "      <td>0</td>\n",
       "    </tr>\n",
       "  </tbody>\n",
       "</table>\n",
       "</div>"
      ],
      "text/plain": [
       "     id grp  rev\n",
       "0  1489   B    0\n",
       "1  1627   A  990\n",
       "2  1768   B    0"
      ]
     },
     "execution_count": 57,
     "metadata": {},
     "output_type": "execute_result"
    }
   ],
   "source": [
    "all_users = grs.loc[:, ['id', 'grp', 'rev']]\n",
    "all_users.head(3)"
   ]
  },
  {
   "cell_type": "code",
   "execution_count": 58,
   "id": "dc24e1f6",
   "metadata": {},
   "outputs": [],
   "source": [
    "a = all_users.query(\"grp == 'A'\").rev\n",
    "b = all_users.query(\"grp == 'B'\").rev"
   ]
  },
  {
   "cell_type": "code",
   "execution_count": 59,
   "id": "b107e386",
   "metadata": {},
   "outputs": [
    {
     "data": {
      "text/plain": [
       "4.965902891434807"
      ]
     },
     "execution_count": 59,
     "metadata": {},
     "output_type": "execute_result"
    }
   ],
   "source": [
    "a.mean()  # ARPU группы \"А\""
   ]
  },
  {
   "cell_type": "code",
   "execution_count": 60,
   "id": "f495e448",
   "metadata": {},
   "outputs": [
    {
     "data": {
      "text/plain": [
       "6.609005572009437"
      ]
     },
     "execution_count": 60,
     "metadata": {},
     "output_type": "execute_result"
    }
   ],
   "source": [
    "b.mean()  # ARPU группы \"B\""
   ]
  },
  {
   "cell_type": "code",
   "execution_count": 61,
   "id": "8a239aa6",
   "metadata": {},
   "outputs": [
    {
     "data": {
      "image/png": "[encoded data removed]",
      "text/plain": [
       "<Figure size 640x480 with 1 Axes>"
      ]
     },
     "metadata": {},
     "output_type": "display_data"
    }
   ],
   "source": [
    "bootstrap = get_bootstrap(a, b, bootstrap_conf_level=0.99, boot_it=10000, seed=5)"
   ]
  },
  {
   "cell_type": "code",
   "execution_count": 62,
   "id": "0aa6b5a2",
   "metadata": {
    "scrolled": true
   },
   "outputs": [
    {
     "data": {
      "text/html": [
       "<div>\n",
       "<style scoped>\n",
       "    .dataframe tbody tr th:only-of-type {\n",
       "        vertical-align: middle;\n",
       "    }\n",
       "\n",
       "    .dataframe tbody tr th {\n",
       "        vertical-align: top;\n",
       "    }\n",
       "\n",
       "    .dataframe thead th {\n",
       "        text-align: right;\n",
       "    }\n",
       "</style>\n",
       "<table border=\"1\" class=\"dataframe\">\n",
       "  <thead>\n",
       "    <tr style=\"text-align: right;\">\n",
       "      <th></th>\n",
       "      <th>0</th>\n",
       "    </tr>\n",
       "  </thead>\n",
       "  <tbody>\n",
       "    <tr>\n",
       "      <th>0.005</th>\n",
       "      <td>-3.138961</td>\n",
       "    </tr>\n",
       "    <tr>\n",
       "      <th>0.995</th>\n",
       "      <td>-0.141759</td>\n",
       "    </tr>\n",
       "  </tbody>\n",
       "</table>\n",
       "</div>"
      ],
      "text/plain": [
       "              0\n",
       "0.005 -3.138961\n",
       "0.995 -0.141759"
      ]
     },
     "execution_count": 62,
     "metadata": {},
     "output_type": "execute_result"
    }
   ],
   "source": [
    "bootstrap['quants']"
   ]
  },
  {
   "cell_type": "code",
   "execution_count": 63,
   "id": "6ba3acf0",
   "metadata": {},
   "outputs": [
    {
     "data": {
      "text/plain": [
       "0.004898648611264053"
      ]
     },
     "execution_count": 63,
     "metadata": {},
     "output_type": "execute_result"
    }
   ],
   "source": [
    "bootstrap['p_value']"
   ]
  },
  {
   "cell_type": "markdown",
   "id": "04fd3be7",
   "metadata": {},
   "source": [
    "Получили уверенную статзначимость результатов. Примем альтернативную гипотезу, что ARPU групп различаются."
   ]
  },
  {
   "cell_type": "markdown",
   "id": "d29469b7",
   "metadata": {},
   "source": [
    "Итак, проверили все метрики. Но прежде, чем делать окончательные выводы, проверим еще одну вещь.\n",
    "\n",
    "Заметил, что статзначимость разницы ARPAU в пользу котрольной группы не такая сильная, как у ARPU. Это по идее не логично, потому что с увеличением уровня юзеров статзначимость должа бы наоборот падать.\n",
    "\n",
    "Посмотрим на конверсию из просто юзера в активные (зашедшие на сайт)."
   ]
  },
  {
   "cell_type": "code",
   "execution_count": 64,
   "id": "daf49c12",
   "metadata": {},
   "outputs": [],
   "source": [
    "a = grs.query(\"grp == 'A'\").active\n",
    "b = grs.query(\"grp == 'B'\").active"
   ]
  },
  {
   "cell_type": "code",
   "execution_count": 65,
   "id": "8eeb541b",
   "metadata": {},
   "outputs": [
    {
     "data": {
      "text/plain": [
       "0.10488270594653573"
      ]
     },
     "execution_count": 65,
     "metadata": {},
     "output_type": "execute_result"
    }
   ],
   "source": [
    "a.mean()  # конверсия контрольной группы"
   ]
  },
  {
   "cell_type": "code",
   "execution_count": 66,
   "id": "6470975c",
   "metadata": {},
   "outputs": [
    {
     "data": {
      "text/plain": [
       "0.11383297357897026"
      ]
     },
     "execution_count": 66,
     "metadata": {},
     "output_type": "execute_result"
    }
   ],
   "source": [
    "b.mean()  # тестовой контрольной группы"
   ]
  },
  {
   "cell_type": "markdown",
   "id": "4af6bdec",
   "metadata": {},
   "source": [
    "Как видим, есть разница между конверсиями групп. Но статзначима ли она? Проверим :)\n",
    "\n",
    "Проверять будем с помощью хи-квардрата, как и в случае с CR из активных в покупку."
   ]
  },
  {
   "cell_type": "code",
   "execution_count": 67,
   "id": "ed3d8130",
   "metadata": {},
   "outputs": [
    {
     "data": {
      "text/html": [
       "<div>\n",
       "<style scoped>\n",
       "    .dataframe tbody tr th:only-of-type {\n",
       "        vertical-align: middle;\n",
       "    }\n",
       "\n",
       "    .dataframe tbody tr th {\n",
       "        vertical-align: top;\n",
       "    }\n",
       "\n",
       "    .dataframe thead th {\n",
       "        text-align: right;\n",
       "    }\n",
       "</style>\n",
       "<table border=\"1\" class=\"dataframe\">\n",
       "  <thead>\n",
       "    <tr style=\"text-align: right;\">\n",
       "      <th>active</th>\n",
       "      <th>0</th>\n",
       "      <th>1</th>\n",
       "    </tr>\n",
       "    <tr>\n",
       "      <th>grp</th>\n",
       "      <th></th>\n",
       "      <th></th>\n",
       "    </tr>\n",
       "  </thead>\n",
       "  <tbody>\n",
       "    <tr>\n",
       "      <th>A</th>\n",
       "      <td>13126</td>\n",
       "      <td>1538</td>\n",
       "    </tr>\n",
       "    <tr>\n",
       "      <th>B</th>\n",
       "      <td>52960</td>\n",
       "      <td>6803</td>\n",
       "    </tr>\n",
       "  </tbody>\n",
       "</table>\n",
       "</div>"
      ],
      "text/plain": [
       "active      0     1\n",
       "grp                \n",
       "A       13126  1538\n",
       "B       52960  6803"
      ]
     },
     "execution_count": 67,
     "metadata": {},
     "output_type": "execute_result"
    }
   ],
   "source": [
    "pd.crosstab(grs.grp, grs.active)  # таблица сопряженности"
   ]
  },
  {
   "cell_type": "code",
   "execution_count": 68,
   "id": "f9351bac",
   "metadata": {},
   "outputs": [
    {
     "data": {
      "text/plain": [
       "0.002182661490321881"
      ]
     },
     "execution_count": 68,
     "metadata": {},
     "output_type": "execute_result"
    }
   ],
   "source": [
    "st.chi2_contingency(pd.crosstab(grs.grp, grs.active))[1]"
   ]
  },
  {
   "cell_type": "markdown",
   "id": "bcd334c0",
   "metadata": {},
   "source": [
    "Как видим, разница оказалась статзначима. Для пущей уверенности в результатах проведем А/А тест."
   ]
  },
  {
   "cell_type": "markdown",
   "id": "c7bfdbfa",
   "metadata": {},
   "source": [
    "#### АА тест"
   ]
  },
  {
   "cell_type": "code",
   "execution_count": 69,
   "id": "cc721651",
   "metadata": {},
   "outputs": [],
   "source": [
    "from tqdm.auto import tqdm"
   ]
  },
  {
   "cell_type": "code",
   "execution_count": 70,
   "id": "a566278e",
   "metadata": {},
   "outputs": [],
   "source": [
    "var1 = grs.query(\"grp == 'A'\").active\n",
    "var2 = grs.query(\"grp == 'B'\").active"
   ]
  },
  {
   "cell_type": "code",
   "execution_count": 71,
   "id": "78ec45ac",
   "metadata": {},
   "outputs": [],
   "source": [
    "simulations = 5000\n",
    "n_s1 = int(0.1 * len(var1))\n",
    "n_s2 = int(0.1 * len(var2))"
   ]
  },
  {
   "cell_type": "code",
   "execution_count": 72,
   "id": "eec2e4b7",
   "metadata": {},
   "outputs": [
    {
     "data": {
      "application/vnd.jupyter.widget-view+json": {
       "model_id": "ee2b9a042bee47e1ac3651016afb6bd0",
       "version_major": 2,
       "version_minor": 0
      },
      "text/plain": [
       "  0%|          | 0/5000 [00:00<?, ?it/s]"
      ]
     },
     "metadata": {},
     "output_type": "display_data"
    },
    {
     "data": {
      "text/plain": [
       "Text(0.5, 1.0, 'Histogram of ttest A/A simulations ')"
      ]
     },
     "execution_count": 72,
     "metadata": {},
     "output_type": "execute_result"
    },
    {
     "data": {
      "image/png": "[encoded data removed]",
      "text/plain": [
       "<Figure size 640x480 with 1 Axes>"
      ]
     },
     "metadata": {},
     "output_type": "display_data"
    }
   ],
   "source": [
    "res = []\n",
    "for i in tqdm(range(simulations)):\n",
    "    s1 = var1.sample(n_s1, replace=False).values\n",
    "    s2 = var2.sample(n_s2, replace=False).values\n",
    "    t1 = pd.melt(pd.DataFrame({'A': s1}))\n",
    "    t2 = pd.melt(pd.DataFrame({'B': s2}))\n",
    "    df = pd.concat([t1, t2])\n",
    "    cross_df = pd.crosstab(df.variable, df.value)\n",
    "    res.append(st.chi2_contingency(cross_df)[1])  # сохраняем pvalue\n",
    "    \n",
    "plt.hist(res, bins=50)\n",
    "plt.xlabel('pvalues')\n",
    "plt.ylabel('frequency')\n",
    "plt.title(\"Histogram of ttest A/A simulations \")"
   ]
  },
  {
   "cell_type": "code",
   "execution_count": 73,
   "id": "67ee0b91",
   "metadata": {},
   "outputs": [
    {
     "data": {
      "text/plain": [
       "0.1356"
      ]
     },
     "execution_count": 73,
     "metadata": {},
     "output_type": "execute_result"
    }
   ],
   "source": [
    "# посчитаем долю ложноположительных случаев\n",
    "sum(np.array(res) < 0.05) / simulations"
   ]
  },
  {
   "cell_type": "markdown",
   "id": "abdebf79",
   "metadata": {},
   "source": [
    "А/А тест показал, что группы различаются между собой по активности на сайте во время эксперимента. Пользователи из тестовой группы по каким-то причинам были более склонны заходить на сайт, чем пользователи из контрольной группы."
   ]
  },
  {
   "cell_type": "markdown",
   "id": "104eb7eb",
   "metadata": {},
   "source": [
    "### Выводы"
   ]
  },
  {
   "cell_type": "markdown",
   "id": "1f188475",
   "metadata": {},
   "source": [
    "Итак, получается, что по ARPPU тестовая группа твердо выигрывает. Но уже не так твердо по ARPAU, потому что здесь относительно низкая конверсия примерно в 5% размывает эффект от увеличившейся ARPPU. И при этом статзначимую разницу в конверсиях из активных в продажи между группами мы не нашли. \n",
    "Но вот, что интересно. \n",
    "\n",
    "1. Есть подозрительные оплаты на 1900 у тестовой группы. Таких оплат нет у контрольной. И без этих оплат статзначимой разницы в ARPPU найдено не было. То есть, именно эти оплаты все решают и дают видимый прирост в эффективности у тестовой группы. И надо обратить пристальное внимание на эти оплаты и как они связаны с изменением механики оплаты на сайте.\n",
    "    \n",
    "2. По ARPU нашлась статзначимо твердая разница в пользу тестовой группы, при этом у ARPAU настолько твердых результатов не было. Это навело на мысль, что есть какая-то разница между конверсиями в активных пользователей, чего быть по идее не должно. И АА тест показал, что гипотеза была верна: действительно группы серьезно различаются по конверсии в активных.\n",
    "\n",
    "Учитывая вышесказанное, несмотря на то, что были найдены статзначимые различия в ARPU в пользу тестовой группы, не могу рекомендовать запускать новую механику оплаты на всех пользователей. Необходимо сначала понять, почему группы так сильно различаются по конверсии в активных (возможно, проблемы со сплитовалкой). А также что это за оплаты в 1900, почему именно они способствовали возросшей ARPU в тестовой группе, это закономерное влияние новой механики оплат или же просто баг?\n"
   ]
  },
  {
   "cell_type": "code",
   "execution_count": null,
   "id": "a99c5653",
   "metadata": {},
   "outputs": [],
   "source": []
  }
 ],
 "metadata": {
  "kernelspec": {
   "display_name": "Python 3 (ipykernel)",
   "language": "python",
   "name": "python3"
  },
  "language_info": {
   "codemirror_mode": {
    "name": "ipython",
    "version": 3
   },
   "file_extension": ".py",
   "mimetype": "text/x-python",
   "name": "python",
   "nbconvert_exporter": "python",
   "pygments_lexer": "ipython3",
   "version": "3.9.12"
  }
 },
 "nbformat": 4,
 "nbformat_minor": 5
}
