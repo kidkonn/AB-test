{
 "cells": [
  {
   "cell_type": "markdown",
   "id": "025826a7",
   "metadata": {},
   "source": [
    "## A/B–тестирование\n",
    "В ходе тестирования одной гипотезы целевой группе была предложена новая механика оплаты услуг на сайте, у контрольной группы оставалась базовая механика. Необходимо проанализировать итоги эксперимента и сделать вывод, стоит ли запускать новую механику оплаты на всех пользователей.\n",
    "\n",
    "В качестве входных данных имеются 4 csv-файла:\n",
    "\n",
    "* groups.csv - файл с информацией о принадлежности пользователя к контрольной или экспериментальной группе (А – контроль, B – целевая группа) \n",
    "* groups_add.csv - дополнительный файл с пользователями, который был прислан спустя 2 дня после передачи данных\n",
    "* active_studs.csv - файл с информацией о пользователях, которые зашли на платформу в дни проведения эксперимента. \n",
    "* checks.csv - файл с информацией об оплатах пользователей в дни проведения эксперимента. "
   ]
  },
  {
   "cell_type": "code",
   "execution_count": 1,
   "id": "97b0ac4b",
   "metadata": {},
   "outputs": [],
   "source": [
    "import pandas as pd\n",
    "import numpy as np\n",
    "import seaborn as sns\n",
    "import scipy.stats as st\n",
    "import matplotlib.pyplot as plt"
   ]
  },
  {
   "cell_type": "code",
   "execution_count": 2,
   "id": "cf02ee4c",
   "metadata": {},
   "outputs": [],
   "source": [
    "# создам кастомную функцию стилей графиков на основе seaborn.set_theme()\n",
    "def set_style(style='whitegrid', rc=None, palette='deep', xticks='on', yticks='off', default_rc=False):\n",
    "    if default_rc:\n",
    "        plt.style.use('default')\n",
    "        user_rc = {'grid.color': 'f0f0f0'}\n",
    "    else:\n",
    "        user_rc = {'figure.figsize': (18, 10), 'axes.titlesize': 20, 'axes.labelsize': 18, \n",
    "                   'xtick.labelsize': 12, 'ytick.labelsize': 12, 'axes.titlepad': 30, \n",
    "                   'lines.linewidth': 3.5, 'figure.dpi': 120, 'grid.color': 'f0f0f0', \n",
    "                   'legend.fontsize': 14.0, 'legend.title_fontsize': 16.0, 'legend.frameon': False}\n",
    "    \n",
    "    if xticks == 'on':\n",
    "        user_rc |= {'xtick.bottom': True, 'xtick.minor.visible': False}\n",
    "        \n",
    "    if yticks == 'on':\n",
    "        user_rc |= {'ytick.left': True}\n",
    "    \n",
    "    sns.set_theme(style=style, rc=user_rc, palette=palette)"
   ]
  },
  {
   "cell_type": "code",
   "execution_count": 3,
   "id": "778014af",
   "metadata": {},
   "outputs": [],
   "source": [
    "set_style()"
   ]
  },
  {
   "cell_type": "markdown",
   "id": "1bf4500d",
   "metadata": {},
   "source": [
    "## Задание №1. A/B–тестирование. \n",
    "### Предобработка данных\n",
    "Загружаю датафреймы"
   ]
  },
  {
   "cell_type": "code",
   "execution_count": 4,
   "id": "2e239858",
   "metadata": {},
   "outputs": [
    {
     "data": {
      "text/html": [
       "<div>\n",
       "<style scoped>\n",
       "    .dataframe tbody tr th:only-of-type {\n",
       "        vertical-align: middle;\n",
       "    }\n",
       "\n",
       "    .dataframe tbody tr th {\n",
       "        vertical-align: top;\n",
       "    }\n",
       "\n",
       "    .dataframe thead th {\n",
       "        text-align: right;\n",
       "    }\n",
       "</style>\n",
       "<table border=\"1\" class=\"dataframe\">\n",
       "  <thead>\n",
       "    <tr style=\"text-align: right;\">\n",
       "      <th></th>\n",
       "      <th>id</th>\n",
       "      <th>grp</th>\n",
       "    </tr>\n",
       "  </thead>\n",
       "  <tbody>\n",
       "    <tr>\n",
       "      <th>0</th>\n",
       "      <td>1489</td>\n",
       "      <td>B</td>\n",
       "    </tr>\n",
       "    <tr>\n",
       "      <th>1</th>\n",
       "      <td>1627</td>\n",
       "      <td>A</td>\n",
       "    </tr>\n",
       "  </tbody>\n",
       "</table>\n",
       "</div>"
      ],
      "text/plain": [
       "     id grp\n",
       "0  1489   B\n",
       "1  1627   A"
      ]
     },
     "execution_count": 4,
     "metadata": {},
     "output_type": "execute_result"
    }
   ],
   "source": [
    "groups = pd.read_csv('groups.csv', sep=';')\n",
    "groups.head(2)"
   ]
  },
  {
   "cell_type": "code",
   "execution_count": 5,
   "id": "4a762f0d",
   "metadata": {
    "scrolled": true
   },
   "outputs": [
    {
     "name": "stdout",
     "output_type": "stream",
     "text": [
      "<class 'pandas.core.frame.DataFrame'>\n",
      "RangeIndex: 74484 entries, 0 to 74483\n",
      "Data columns (total 2 columns):\n",
      " #   Column  Non-Null Count  Dtype \n",
      "---  ------  --------------  ----- \n",
      " 0   id      74484 non-null  int64 \n",
      " 1   grp     74484 non-null  object\n",
      "dtypes: int64(1), object(1)\n",
      "memory usage: 1.1+ MB\n"
     ]
    }
   ],
   "source": [
    "# пропущенных значений нет\n",
    "groups.info()"
   ]
  },
  {
   "cell_type": "code",
   "execution_count": 6,
   "id": "5809e274",
   "metadata": {},
   "outputs": [
    {
     "data": {
      "text/html": [
       "<div>\n",
       "<style scoped>\n",
       "    .dataframe tbody tr th:only-of-type {\n",
       "        vertical-align: middle;\n",
       "    }\n",
       "\n",
       "    .dataframe tbody tr th {\n",
       "        vertical-align: top;\n",
       "    }\n",
       "\n",
       "    .dataframe thead th {\n",
       "        text-align: right;\n",
       "    }\n",
       "</style>\n",
       "<table border=\"1\" class=\"dataframe\">\n",
       "  <thead>\n",
       "    <tr style=\"text-align: right;\">\n",
       "      <th></th>\n",
       "      <th>id</th>\n",
       "      <th>grp</th>\n",
       "    </tr>\n",
       "  </thead>\n",
       "  <tbody>\n",
       "    <tr>\n",
       "      <th>0</th>\n",
       "      <td>5694584</td>\n",
       "      <td>B</td>\n",
       "    </tr>\n",
       "    <tr>\n",
       "      <th>1</th>\n",
       "      <td>5694830</td>\n",
       "      <td>B</td>\n",
       "    </tr>\n",
       "  </tbody>\n",
       "</table>\n",
       "</div>"
      ],
      "text/plain": [
       "        id grp\n",
       "0  5694584   B\n",
       "1  5694830   B"
      ]
     },
     "execution_count": 6,
     "metadata": {},
     "output_type": "execute_result"
    }
   ],
   "source": [
    "groups_add = pd.read_csv('groups_add.csv')\n",
    "groups_add.head(2)"
   ]
  },
  {
   "cell_type": "code",
   "execution_count": 7,
   "id": "fb6fefbc",
   "metadata": {},
   "outputs": [
    {
     "name": "stdout",
     "output_type": "stream",
     "text": [
      "<class 'pandas.core.frame.DataFrame'>\n",
      "RangeIndex: 92 entries, 0 to 91\n",
      "Data columns (total 2 columns):\n",
      " #   Column  Non-Null Count  Dtype \n",
      "---  ------  --------------  ----- \n",
      " 0   id      92 non-null     int64 \n",
      " 1   grp     92 non-null     object\n",
      "dtypes: int64(1), object(1)\n",
      "memory usage: 1.6+ KB\n"
     ]
    }
   ],
   "source": [
    "# пропущенных значений нет\n",
    "groups_add.info()"
   ]
  },
  {
   "cell_type": "code",
   "execution_count": 8,
   "id": "90d70658",
   "metadata": {},
   "outputs": [
    {
     "data": {
      "text/html": [
       "<div>\n",
       "<style scoped>\n",
       "    .dataframe tbody tr th:only-of-type {\n",
       "        vertical-align: middle;\n",
       "    }\n",
       "\n",
       "    .dataframe tbody tr th {\n",
       "        vertical-align: top;\n",
       "    }\n",
       "\n",
       "    .dataframe thead th {\n",
       "        text-align: right;\n",
       "    }\n",
       "</style>\n",
       "<table border=\"1\" class=\"dataframe\">\n",
       "  <thead>\n",
       "    <tr style=\"text-align: right;\">\n",
       "      <th></th>\n",
       "      <th>student_id</th>\n",
       "    </tr>\n",
       "  </thead>\n",
       "  <tbody>\n",
       "    <tr>\n",
       "      <th>0</th>\n",
       "      <td>581585</td>\n",
       "    </tr>\n",
       "    <tr>\n",
       "      <th>1</th>\n",
       "      <td>5723133</td>\n",
       "    </tr>\n",
       "  </tbody>\n",
       "</table>\n",
       "</div>"
      ],
      "text/plain": [
       "   student_id\n",
       "0      581585\n",
       "1     5723133"
      ]
     },
     "execution_count": 8,
     "metadata": {},
     "output_type": "execute_result"
    }
   ],
   "source": [
    "active_studs = pd.read_csv('active_studs.csv')\n",
    "active_studs.head(2)"
   ]
  },
  {
   "cell_type": "code",
   "execution_count": 9,
   "id": "5da4e269",
   "metadata": {},
   "outputs": [
    {
     "name": "stdout",
     "output_type": "stream",
     "text": [
      "<class 'pandas.core.frame.DataFrame'>\n",
      "RangeIndex: 8341 entries, 0 to 8340\n",
      "Data columns (total 1 columns):\n",
      " #   Column      Non-Null Count  Dtype\n",
      "---  ------      --------------  -----\n",
      " 0   student_id  8341 non-null   int64\n",
      "dtypes: int64(1)\n",
      "memory usage: 65.3 KB\n"
     ]
    }
   ],
   "source": [
    "# пропущенных значений нет\n",
    "active_studs.info()"
   ]
  },
  {
   "cell_type": "code",
   "execution_count": 10,
   "id": "92a6b899",
   "metadata": {},
   "outputs": [
    {
     "data": {
      "text/html": [
       "<div>\n",
       "<style scoped>\n",
       "    .dataframe tbody tr th:only-of-type {\n",
       "        vertical-align: middle;\n",
       "    }\n",
       "\n",
       "    .dataframe tbody tr th {\n",
       "        vertical-align: top;\n",
       "    }\n",
       "\n",
       "    .dataframe thead th {\n",
       "        text-align: right;\n",
       "    }\n",
       "</style>\n",
       "<table border=\"1\" class=\"dataframe\">\n",
       "  <thead>\n",
       "    <tr style=\"text-align: right;\">\n",
       "      <th></th>\n",
       "      <th>student_id</th>\n",
       "      <th>rev</th>\n",
       "    </tr>\n",
       "  </thead>\n",
       "  <tbody>\n",
       "    <tr>\n",
       "      <th>0</th>\n",
       "      <td>1627</td>\n",
       "      <td>990.0</td>\n",
       "    </tr>\n",
       "    <tr>\n",
       "      <th>1</th>\n",
       "      <td>3185</td>\n",
       "      <td>690.0</td>\n",
       "    </tr>\n",
       "  </tbody>\n",
       "</table>\n",
       "</div>"
      ],
      "text/plain": [
       "   student_id    rev\n",
       "0        1627  990.0\n",
       "1        3185  690.0"
      ]
     },
     "execution_count": 10,
     "metadata": {},
     "output_type": "execute_result"
    }
   ],
   "source": [
    "checks = pd.read_csv('checks.csv', sep=';')\n",
    "checks.head(2)"
   ]
  },
  {
   "cell_type": "code",
   "execution_count": 11,
   "id": "53b6bf3a",
   "metadata": {},
   "outputs": [
    {
     "name": "stdout",
     "output_type": "stream",
     "text": [
      "<class 'pandas.core.frame.DataFrame'>\n",
      "RangeIndex: 541 entries, 0 to 540\n",
      "Data columns (total 2 columns):\n",
      " #   Column      Non-Null Count  Dtype  \n",
      "---  ------      --------------  -----  \n",
      " 0   student_id  541 non-null    int64  \n",
      " 1   rev         541 non-null    float64\n",
      "dtypes: float64(1), int64(1)\n",
      "memory usage: 8.6 KB\n"
     ]
    }
   ],
   "source": [
    "# пропущенных значений нет\n",
    "checks.info()"
   ]
  },
  {
   "cell_type": "markdown",
   "id": "c593ca28",
   "metadata": {},
   "source": [
    "Теперь надо смерджить таблицы, чтобы анализировать результаты А/Б теста. Но перед этим посмотрим на таблицу `checks`. В ней содержится информация о revenue. "
   ]
  },
  {
   "cell_type": "code",
   "execution_count": 12,
   "id": "aa2fec08",
   "metadata": {
    "scrolled": true
   },
   "outputs": [
    {
     "data": {
      "text/plain": [
       "array([ 990.    ,  690.    ,  630.    ,  580.    ,  290.    , 1140.    ,\n",
       "       1900.0001,  199.    ,  398.    , 1830.    , 1900.    , 3260.    ,\n",
       "       2910.    , 2820.    , 2099.    , 3660.    , 1530.    , 2900.    ,\n",
       "       1980.    , 1160.    ,  870.    ,  840.    , 2890.    , 1180.    ,\n",
       "        880.    , 3040.    ,  796.    , 4650.    , 2190.    , 1729.    ,\n",
       "       1388.    ,  590.    , 2220.    ,  489.    , 1050.    , 1968.    ,\n",
       "       1339.    ,  597.    , 1039.    ])"
      ]
     },
     "execution_count": 12,
     "metadata": {},
     "output_type": "execute_result"
    }
   ],
   "source": [
    "# Обнаружил, что есть ревенью 1900.0001 \n",
    "checks.rev.unique()"
   ]
  },
  {
   "cell_type": "markdown",
   "id": "2a60d514",
   "metadata": {},
   "source": [
    "Это, возможно, ошибка. В любом, случае, решил избавиться от хвоста. Он слишком мал, чтобы на что-то влиять. А избавление позволит упростить анализ"
   ]
  },
  {
   "cell_type": "code",
   "execution_count": 13,
   "id": "23cbdf3d",
   "metadata": {},
   "outputs": [
    {
     "data": {
      "text/html": [
       "<div>\n",
       "<style scoped>\n",
       "    .dataframe tbody tr th:only-of-type {\n",
       "        vertical-align: middle;\n",
       "    }\n",
       "\n",
       "    .dataframe tbody tr th {\n",
       "        vertical-align: top;\n",
       "    }\n",
       "\n",
       "    .dataframe thead th {\n",
       "        text-align: right;\n",
       "    }\n",
       "</style>\n",
       "<table border=\"1\" class=\"dataframe\">\n",
       "  <thead>\n",
       "    <tr style=\"text-align: right;\">\n",
       "      <th></th>\n",
       "      <th>student_id</th>\n",
       "      <th>rev</th>\n",
       "    </tr>\n",
       "  </thead>\n",
       "  <tbody>\n",
       "    <tr>\n",
       "      <th>0</th>\n",
       "      <td>1627</td>\n",
       "      <td>990</td>\n",
       "    </tr>\n",
       "    <tr>\n",
       "      <th>1</th>\n",
       "      <td>3185</td>\n",
       "      <td>690</td>\n",
       "    </tr>\n",
       "  </tbody>\n",
       "</table>\n",
       "</div>"
      ],
      "text/plain": [
       "   student_id  rev\n",
       "0        1627  990\n",
       "1        3185  690"
      ]
     },
     "execution_count": 13,
     "metadata": {},
     "output_type": "execute_result"
    }
   ],
   "source": [
    "# избавляюсь от хвоста:\n",
    "checks.rev = checks.rev.apply(lambda x: int(x))\n",
    "checks.head(2)"
   ]
  },
  {
   "cell_type": "markdown",
   "id": "0e6be7ae",
   "metadata": {},
   "source": [
    "У остальных колонок проблем нет. Но нужно еще сделать несколько преобразование перед мерджем.\n",
    "\n",
    "Во-первых, соединить таблицы `groups` и `groups_add` (так как `groups_add` это дополнение к `groups`), создав таблицу `grs`."
   ]
  },
  {
   "cell_type": "code",
   "execution_count": 14,
   "id": "5a7bb751",
   "metadata": {},
   "outputs": [],
   "source": [
    "grs = pd.concat([groups, groups_add], ignore_index=True)"
   ]
  },
  {
   "cell_type": "markdown",
   "id": "3d754502",
   "metadata": {},
   "source": [
    "Во-вторых, добавить колонку `active`в `active_studs`. Там в дальнейшем будет информация об активных/неактивных пользователях"
   ]
  },
  {
   "cell_type": "code",
   "execution_count": 15,
   "id": "a270958b",
   "metadata": {},
   "outputs": [],
   "source": [
    "active_studs['active'] = 1"
   ]
  },
  {
   "cell_type": "markdown",
   "id": "a462c5fa",
   "metadata": {},
   "source": [
    "А в-третьих, привести все айдишники к общему названию - по этой колонке и будем мерджить"
   ]
  },
  {
   "cell_type": "code",
   "execution_count": 16,
   "id": "527f7dc3",
   "metadata": {},
   "outputs": [],
   "source": [
    "active_studs.rename(columns={'student_id': 'id'}, inplace=True)\n",
    "checks.rename(columns={'student_id': 'id'}, inplace=True)"
   ]
  },
  {
   "cell_type": "markdown",
   "id": "6e6b3a91",
   "metadata": {},
   "source": [
    "Теперь можно мерджить"
   ]
  },
  {
   "cell_type": "code",
   "execution_count": 17,
   "id": "9ec3cf74",
   "metadata": {},
   "outputs": [
    {
     "data": {
      "text/html": [
       "<div>\n",
       "<style scoped>\n",
       "    .dataframe tbody tr th:only-of-type {\n",
       "        vertical-align: middle;\n",
       "    }\n",
       "\n",
       "    .dataframe tbody tr th {\n",
       "        vertical-align: top;\n",
       "    }\n",
       "\n",
       "    .dataframe thead th {\n",
       "        text-align: right;\n",
       "    }\n",
       "</style>\n",
       "<table border=\"1\" class=\"dataframe\">\n",
       "  <thead>\n",
       "    <tr style=\"text-align: right;\">\n",
       "      <th></th>\n",
       "      <th>id</th>\n",
       "      <th>grp</th>\n",
       "      <th>active</th>\n",
       "      <th>rev</th>\n",
       "    </tr>\n",
       "  </thead>\n",
       "  <tbody>\n",
       "    <tr>\n",
       "      <th>0</th>\n",
       "      <td>1489</td>\n",
       "      <td>B</td>\n",
       "      <td>NaN</td>\n",
       "      <td>NaN</td>\n",
       "    </tr>\n",
       "    <tr>\n",
       "      <th>1</th>\n",
       "      <td>1627</td>\n",
       "      <td>A</td>\n",
       "      <td>1.0</td>\n",
       "      <td>990.0</td>\n",
       "    </tr>\n",
       "    <tr>\n",
       "      <th>2</th>\n",
       "      <td>1768</td>\n",
       "      <td>B</td>\n",
       "      <td>NaN</td>\n",
       "      <td>NaN</td>\n",
       "    </tr>\n",
       "  </tbody>\n",
       "</table>\n",
       "</div>"
      ],
      "text/plain": [
       "     id grp  active    rev\n",
       "0  1489   B     NaN    NaN\n",
       "1  1627   A     1.0  990.0\n",
       "2  1768   B     NaN    NaN"
      ]
     },
     "execution_count": 17,
     "metadata": {},
     "output_type": "execute_result"
    }
   ],
   "source": [
    "grs = grs.merge(active_studs, on='id', how='left')\n",
    "grs = grs.merge(checks, on='id', how='left')\n",
    "grs.head(3)"
   ]
  },
  {
   "cell_type": "code",
   "execution_count": 18,
   "id": "422a7d06",
   "metadata": {},
   "outputs": [
    {
     "data": {
      "text/html": [
       "<div>\n",
       "<style scoped>\n",
       "    .dataframe tbody tr th:only-of-type {\n",
       "        vertical-align: middle;\n",
       "    }\n",
       "\n",
       "    .dataframe tbody tr th {\n",
       "        vertical-align: top;\n",
       "    }\n",
       "\n",
       "    .dataframe thead th {\n",
       "        text-align: right;\n",
       "    }\n",
       "</style>\n",
       "<table border=\"1\" class=\"dataframe\">\n",
       "  <thead>\n",
       "    <tr style=\"text-align: right;\">\n",
       "      <th></th>\n",
       "      <th>id</th>\n",
       "      <th>grp</th>\n",
       "      <th>active</th>\n",
       "      <th>rev</th>\n",
       "    </tr>\n",
       "  </thead>\n",
       "  <tbody>\n",
       "    <tr>\n",
       "      <th>0</th>\n",
       "      <td>1489</td>\n",
       "      <td>B</td>\n",
       "      <td>0</td>\n",
       "      <td>0</td>\n",
       "    </tr>\n",
       "    <tr>\n",
       "      <th>1</th>\n",
       "      <td>1627</td>\n",
       "      <td>A</td>\n",
       "      <td>1</td>\n",
       "      <td>990</td>\n",
       "    </tr>\n",
       "  </tbody>\n",
       "</table>\n",
       "</div>"
      ],
      "text/plain": [
       "     id grp  active  rev\n",
       "0  1489   B       0    0\n",
       "1  1627   A       1  990"
      ]
     },
     "execution_count": 18,
     "metadata": {},
     "output_type": "execute_result"
    }
   ],
   "source": [
    "# Заменяем NaN на нули и приводим данные \"active\" и \"rev\" к удобному числовому формату\n",
    "grs.loc[grs.active.isna(), 'active'] = 0\n",
    "grs.loc[grs.rev.isna(), 'rev'] = 0\n",
    "grs.active = pd.to_numeric(grs.active, downcast='integer')\n",
    "grs.rev = pd.to_numeric(grs.rev, downcast='integer')\n",
    "grs.head(2)"
   ]
  },
  {
   "cell_type": "markdown",
   "id": "590fedc4",
   "metadata": {},
   "source": [
    "Посмотрим внимательно на получившуюся таблица `grs`. Часть из тех, кто зашел на сайт во время эксперимента (active = 1), оплатили. Но есть и те, кто не заходил на сайт во время эксперимента, но тоже оплатили:"
   ]
  },
  {
   "cell_type": "code",
   "execution_count": 19,
   "id": "41a37cc2",
   "metadata": {},
   "outputs": [
    {
     "data": {
      "text/html": [
       "<div>\n",
       "<style scoped>\n",
       "    .dataframe tbody tr th:only-of-type {\n",
       "        vertical-align: middle;\n",
       "    }\n",
       "\n",
       "    .dataframe tbody tr th {\n",
       "        vertical-align: top;\n",
       "    }\n",
       "\n",
       "    .dataframe thead th {\n",
       "        text-align: right;\n",
       "    }\n",
       "</style>\n",
       "<table border=\"1\" class=\"dataframe\">\n",
       "  <thead>\n",
       "    <tr style=\"text-align: right;\">\n",
       "      <th></th>\n",
       "      <th>id</th>\n",
       "      <th>grp</th>\n",
       "      <th>active</th>\n",
       "      <th>rev</th>\n",
       "    </tr>\n",
       "  </thead>\n",
       "  <tbody>\n",
       "    <tr>\n",
       "      <th>39</th>\n",
       "      <td>3185</td>\n",
       "      <td>B</td>\n",
       "      <td>0</td>\n",
       "      <td>690</td>\n",
       "    </tr>\n",
       "    <tr>\n",
       "      <th>121</th>\n",
       "      <td>25973</td>\n",
       "      <td>B</td>\n",
       "      <td>0</td>\n",
       "      <td>690</td>\n",
       "    </tr>\n",
       "    <tr>\n",
       "      <th>125</th>\n",
       "      <td>26280</td>\n",
       "      <td>B</td>\n",
       "      <td>0</td>\n",
       "      <td>690</td>\n",
       "    </tr>\n",
       "    <tr>\n",
       "      <th>223</th>\n",
       "      <td>100645</td>\n",
       "      <td>B</td>\n",
       "      <td>0</td>\n",
       "      <td>630</td>\n",
       "    </tr>\n",
       "    <tr>\n",
       "      <th>254</th>\n",
       "      <td>102534</td>\n",
       "      <td>B</td>\n",
       "      <td>0</td>\n",
       "      <td>580</td>\n",
       "    </tr>\n",
       "    <tr>\n",
       "      <th>...</th>\n",
       "      <td>...</td>\n",
       "      <td>...</td>\n",
       "      <td>...</td>\n",
       "      <td>...</td>\n",
       "    </tr>\n",
       "    <tr>\n",
       "      <th>72452</th>\n",
       "      <td>5291900</td>\n",
       "      <td>B</td>\n",
       "      <td>0</td>\n",
       "      <td>199</td>\n",
       "    </tr>\n",
       "    <tr>\n",
       "      <th>72753</th>\n",
       "      <td>5331842</td>\n",
       "      <td>B</td>\n",
       "      <td>0</td>\n",
       "      <td>290</td>\n",
       "    </tr>\n",
       "    <tr>\n",
       "      <th>73632</th>\n",
       "      <td>5486319</td>\n",
       "      <td>B</td>\n",
       "      <td>0</td>\n",
       "      <td>199</td>\n",
       "    </tr>\n",
       "    <tr>\n",
       "      <th>74049</th>\n",
       "      <td>5562806</td>\n",
       "      <td>B</td>\n",
       "      <td>0</td>\n",
       "      <td>398</td>\n",
       "    </tr>\n",
       "    <tr>\n",
       "      <th>74216</th>\n",
       "      <td>5599663</td>\n",
       "      <td>B</td>\n",
       "      <td>0</td>\n",
       "      <td>1900</td>\n",
       "    </tr>\n",
       "  </tbody>\n",
       "</table>\n",
       "<p>149 rows × 4 columns</p>\n",
       "</div>"
      ],
      "text/plain": [
       "            id grp  active   rev\n",
       "39        3185   B       0   690\n",
       "121      25973   B       0   690\n",
       "125      26280   B       0   690\n",
       "223     100645   B       0   630\n",
       "254     102534   B       0   580\n",
       "...        ...  ..     ...   ...\n",
       "72452  5291900   B       0   199\n",
       "72753  5331842   B       0   290\n",
       "73632  5486319   B       0   199\n",
       "74049  5562806   B       0   398\n",
       "74216  5599663   B       0  1900\n",
       "\n",
       "[149 rows x 4 columns]"
      ]
     },
     "execution_count": 19,
     "metadata": {},
     "output_type": "execute_result"
    }
   ],
   "source": [
    "# таких 149 человек:\n",
    "grs.query(\"rev != 0 and active == 0\")"
   ]
  },
  {
   "cell_type": "markdown",
   "id": "d89e3837",
   "metadata": {},
   "source": [
    "Можно предположить, что у них сессия взаимодействия с сайтом началась раньше старта эксперимента. Поэтому система не посчитала их заход на сайт, но посчитала покупку, так как покупка произошла уже во время эксперимента.\n",
    "\n",
    "Таких нужно удалить ибо они по сути не участвовали в эксперименте. Но тут встает вопрос: а что делать с теми из них, кого отнесли к контрольной группе? Ведь они, получается, видели старую версию оплаты, а значит могут считаться частью контрольной группы. НО! Они это делали ДО эксперимента, а поэтому, строго говоря, их нельзя относить к эсперименту хотя бы потому, что они дейстовали в другом временном промежутке. Поэтому просто исключаем."
   ]
  },
  {
   "cell_type": "code",
   "execution_count": 20,
   "id": "14ac463f",
   "metadata": {},
   "outputs": [],
   "source": [
    "out_of_experiment = grs.query(\"rev != 0 and active == 0\").id"
   ]
  },
  {
   "cell_type": "code",
   "execution_count": 21,
   "id": "9d4dfd4c",
   "metadata": {},
   "outputs": [],
   "source": [
    "grs = grs.query(\"id not in @out_of_experiment\")"
   ]
  },
  {
   "cell_type": "markdown",
   "id": "b753c0cb",
   "metadata": {},
   "source": [
    "### А/Б тест"
   ]
  },
  {
   "cell_type": "markdown",
   "id": "d5881a65",
   "metadata": {},
   "source": [
    "Итак, у нас есть таблица, с которой можно работать и анализировать итоги А/Б теста"
   ]
  },
  {
   "cell_type": "code",
   "execution_count": 22,
   "id": "519933db",
   "metadata": {},
   "outputs": [
    {
     "data": {
      "text/html": [
       "<div>\n",
       "<style scoped>\n",
       "    .dataframe tbody tr th:only-of-type {\n",
       "        vertical-align: middle;\n",
       "    }\n",
       "\n",
       "    .dataframe tbody tr th {\n",
       "        vertical-align: top;\n",
       "    }\n",
       "\n",
       "    .dataframe thead th {\n",
       "        text-align: right;\n",
       "    }\n",
       "</style>\n",
       "<table border=\"1\" class=\"dataframe\">\n",
       "  <thead>\n",
       "    <tr style=\"text-align: right;\">\n",
       "      <th></th>\n",
       "      <th>id</th>\n",
       "      <th>grp</th>\n",
       "      <th>active</th>\n",
       "      <th>rev</th>\n",
       "    </tr>\n",
       "  </thead>\n",
       "  <tbody>\n",
       "    <tr>\n",
       "      <th>0</th>\n",
       "      <td>1489</td>\n",
       "      <td>B</td>\n",
       "      <td>0</td>\n",
       "      <td>0</td>\n",
       "    </tr>\n",
       "    <tr>\n",
       "      <th>1</th>\n",
       "      <td>1627</td>\n",
       "      <td>A</td>\n",
       "      <td>1</td>\n",
       "      <td>990</td>\n",
       "    </tr>\n",
       "    <tr>\n",
       "      <th>2</th>\n",
       "      <td>1768</td>\n",
       "      <td>B</td>\n",
       "      <td>0</td>\n",
       "      <td>0</td>\n",
       "    </tr>\n",
       "  </tbody>\n",
       "</table>\n",
       "</div>"
      ],
      "text/plain": [
       "     id grp  active  rev\n",
       "0  1489   B       0    0\n",
       "1  1627   A       1  990\n",
       "2  1768   B       0    0"
      ]
     },
     "execution_count": 22,
     "metadata": {},
     "output_type": "execute_result"
    }
   ],
   "source": [
    "grs.head(3)"
   ]
  },
  {
   "cell_type": "markdown",
   "id": "b216c227",
   "metadata": {},
   "source": [
    "Можно выделить три уровня пользователей: все, активные (кто зашел на сайт) и купившие.\n",
    "\n",
    "На что могло повлиять обновление страницы оплаты на сайте? На конверсию в покупку и на доход. Это и будем проверять. Для этого используем метрики:\n",
    "* CR активных в покупку\n",
    "* ARPU в широком смысле. \n",
    "\n",
    "В рамках ARPU посмотрим на:\n",
    "* ARPPU (здесь это средний доход на заплатившего пользователя). Позволит понять, есть ли влияние на суммы, которые в среднем потратили оплатившие пользователи\n",
    "* ARPAU - более общая метрика, по сути включит в себя еще и влияние CR\n",
    "* И, собственно, ARPU - поможет оценить общий эффект от изменений (если он есть)"
   ]
  },
  {
   "cell_type": "markdown",
   "id": "2de7de6f",
   "metadata": {},
   "source": [
    "#### Начнем с активных"
   ]
  },
  {
   "cell_type": "code",
   "execution_count": 23,
   "id": "eaa558ce",
   "metadata": {},
   "outputs": [],
   "source": [
    "# таблица с активными\n",
    "active = grs.query(\"active == 1\").copy()"
   ]
  },
  {
   "cell_type": "markdown",
   "id": "aa2ae05a",
   "metadata": {},
   "source": [
    "#### Посмотрим разницу между CR обеих групп"
   ]
  },
  {
   "cell_type": "code",
   "execution_count": 24,
   "id": "e95ffc9f",
   "metadata": {},
   "outputs": [
    {
     "data": {
      "text/html": [
       "<div>\n",
       "<style scoped>\n",
       "    .dataframe tbody tr th:only-of-type {\n",
       "        vertical-align: middle;\n",
       "    }\n",
       "\n",
       "    .dataframe tbody tr th {\n",
       "        vertical-align: top;\n",
       "    }\n",
       "\n",
       "    .dataframe thead th {\n",
       "        text-align: right;\n",
       "    }\n",
       "</style>\n",
       "<table border=\"1\" class=\"dataframe\">\n",
       "  <thead>\n",
       "    <tr style=\"text-align: right;\">\n",
       "      <th></th>\n",
       "      <th>id</th>\n",
       "      <th>grp</th>\n",
       "      <th>rev</th>\n",
       "    </tr>\n",
       "  </thead>\n",
       "  <tbody>\n",
       "    <tr>\n",
       "      <th>1</th>\n",
       "      <td>1627</td>\n",
       "      <td>A</td>\n",
       "      <td>990</td>\n",
       "    </tr>\n",
       "    <tr>\n",
       "      <th>10</th>\n",
       "      <td>2085</td>\n",
       "      <td>B</td>\n",
       "      <td>0</td>\n",
       "    </tr>\n",
       "  </tbody>\n",
       "</table>\n",
       "</div>"
      ],
      "text/plain": [
       "      id grp  rev\n",
       "1   1627   A  990\n",
       "10  2085   B    0"
      ]
     },
     "execution_count": 24,
     "metadata": {},
     "output_type": "execute_result"
    }
   ],
   "source": [
    "# таблица для оценки CR\n",
    "active_exp1 = active.loc[:, ['id', 'grp', 'rev']]\n",
    "active_exp1.head(2)"
   ]
  },
  {
   "cell_type": "markdown",
   "id": "45d8e631",
   "metadata": {},
   "source": [
    "Добавим категориальную переменную \"purhase\", которая будет принимать два значения: 1 (купил) и 0 (не купил)."
   ]
  },
  {
   "cell_type": "code",
   "execution_count": 25,
   "id": "64ea06a0",
   "metadata": {},
   "outputs": [
    {
     "data": {
      "text/html": [
       "<div>\n",
       "<style scoped>\n",
       "    .dataframe tbody tr th:only-of-type {\n",
       "        vertical-align: middle;\n",
       "    }\n",
       "\n",
       "    .dataframe tbody tr th {\n",
       "        vertical-align: top;\n",
       "    }\n",
       "\n",
       "    .dataframe thead th {\n",
       "        text-align: right;\n",
       "    }\n",
       "</style>\n",
       "<table border=\"1\" class=\"dataframe\">\n",
       "  <thead>\n",
       "    <tr style=\"text-align: right;\">\n",
       "      <th></th>\n",
       "      <th>id</th>\n",
       "      <th>grp</th>\n",
       "      <th>purhase</th>\n",
       "    </tr>\n",
       "  </thead>\n",
       "  <tbody>\n",
       "    <tr>\n",
       "      <th>1</th>\n",
       "      <td>1627</td>\n",
       "      <td>A</td>\n",
       "      <td>1</td>\n",
       "    </tr>\n",
       "    <tr>\n",
       "      <th>10</th>\n",
       "      <td>2085</td>\n",
       "      <td>B</td>\n",
       "      <td>0</td>\n",
       "    </tr>\n",
       "  </tbody>\n",
       "</table>\n",
       "</div>"
      ],
      "text/plain": [
       "      id grp  purhase\n",
       "1   1627   A        1\n",
       "10  2085   B        0"
      ]
     },
     "execution_count": 25,
     "metadata": {},
     "output_type": "execute_result"
    }
   ],
   "source": [
    "active_exp1['purhase'] = active_exp1.rev.apply(lambda x: 1 if x > 0 else 0)\n",
    "del active_exp1['rev']  # удалим rev, чтоб не мешалась\n",
    "active_exp1.head(2)"
   ]
  },
  {
   "cell_type": "code",
   "execution_count": 26,
   "id": "96dae4f8",
   "metadata": {},
   "outputs": [
    {
     "data": {
      "text/plain": [
       "0.05071521456436931"
      ]
     },
     "execution_count": 26,
     "metadata": {},
     "output_type": "execute_result"
    }
   ],
   "source": [
    "active_exp1.query(\"grp == 'A'\").purhase.mean()  # средний CR группы \"А\""
   ]
  },
  {
   "cell_type": "code",
   "execution_count": 27,
   "id": "de91b56b",
   "metadata": {},
   "outputs": [
    {
     "data": {
      "text/plain": [
       "0.046156107599588415"
      ]
     },
     "execution_count": 27,
     "metadata": {},
     "output_type": "execute_result"
    }
   ],
   "source": [
    "active_exp1.query(\"grp == 'B'\").purhase.mean()  # средний CR группы \"В\""
   ]
  },
  {
   "cell_type": "markdown",
   "id": "ebfae702",
   "metadata": {},
   "source": [
    "На первый взгляд конверсии различаются, хоть и незначительно. Проверим, статзначимое ли это различие. Переменные здесь категориальные, поэтому используем хи-квадрат или критерий согласия Пирсона."
   ]
  },
  {
   "cell_type": "code",
   "execution_count": 28,
   "id": "15fb8629",
   "metadata": {},
   "outputs": [
    {
     "data": {
      "text/html": [
       "<div>\n",
       "<style scoped>\n",
       "    .dataframe tbody tr th:only-of-type {\n",
       "        vertical-align: middle;\n",
       "    }\n",
       "\n",
       "    .dataframe tbody tr th {\n",
       "        vertical-align: top;\n",
       "    }\n",
       "\n",
       "    .dataframe thead th {\n",
       "        text-align: right;\n",
       "    }\n",
       "</style>\n",
       "<table border=\"1\" class=\"dataframe\">\n",
       "  <thead>\n",
       "    <tr style=\"text-align: right;\">\n",
       "      <th>purhase</th>\n",
       "      <th>0</th>\n",
       "      <th>1</th>\n",
       "    </tr>\n",
       "    <tr>\n",
       "      <th>grp</th>\n",
       "      <th></th>\n",
       "      <th></th>\n",
       "    </tr>\n",
       "  </thead>\n",
       "  <tbody>\n",
       "    <tr>\n",
       "      <th>A</th>\n",
       "      <td>1460</td>\n",
       "      <td>78</td>\n",
       "    </tr>\n",
       "    <tr>\n",
       "      <th>B</th>\n",
       "      <td>6489</td>\n",
       "      <td>314</td>\n",
       "    </tr>\n",
       "  </tbody>\n",
       "</table>\n",
       "</div>"
      ],
      "text/plain": [
       "purhase     0    1\n",
       "grp               \n",
       "A        1460   78\n",
       "B        6489  314"
      ]
     },
     "execution_count": 28,
     "metadata": {},
     "output_type": "execute_result"
    }
   ],
   "source": [
    "pd.crosstab(active_exp1.grp, active_exp1.purhase)  # строим таблицу сопряженности"
   ]
  },
  {
   "cell_type": "code",
   "execution_count": 29,
   "id": "458148ef",
   "metadata": {},
   "outputs": [
    {
     "data": {
      "text/plain": [
       "0.48625240457231045"
      ]
     },
     "execution_count": 29,
     "metadata": {},
     "output_type": "execute_result"
    }
   ],
   "source": [
    "st.chi2_contingency(pd.crosstab(active_exp1.grp, active_exp1.purhase))[1]  # p-value"
   ]
  },
  {
   "cell_type": "markdown",
   "id": "9f7d1f75",
   "metadata": {},
   "source": [
    "P-value больше любых традиционных уровней значимости. Cтатистически значимые результаты не получены. То есть, мы не можем отклонить нулевую гипотезу о том, что нет никакой зависимости между принадлежности к группе и CR активных пользователей в покупку. А значит будем считать, что различий в CR нет."
   ]
  },
  {
   "cell_type": "markdown",
   "id": "742cbd56",
   "metadata": {},
   "source": [
    "#### Посмотрим разницу между ARPPU обеих групп"
   ]
  },
  {
   "cell_type": "code",
   "execution_count": 30,
   "id": "779b54f8",
   "metadata": {},
   "outputs": [
    {
     "data": {
      "text/html": [
       "<div>\n",
       "<style scoped>\n",
       "    .dataframe tbody tr th:only-of-type {\n",
       "        vertical-align: middle;\n",
       "    }\n",
       "\n",
       "    .dataframe tbody tr th {\n",
       "        vertical-align: top;\n",
       "    }\n",
       "\n",
       "    .dataframe thead th {\n",
       "        text-align: right;\n",
       "    }\n",
       "</style>\n",
       "<table border=\"1\" class=\"dataframe\">\n",
       "  <thead>\n",
       "    <tr style=\"text-align: right;\">\n",
       "      <th></th>\n",
       "      <th>id</th>\n",
       "      <th>grp</th>\n",
       "      <th>rev</th>\n",
       "    </tr>\n",
       "  </thead>\n",
       "  <tbody>\n",
       "    <tr>\n",
       "      <th>1</th>\n",
       "      <td>1627</td>\n",
       "      <td>A</td>\n",
       "      <td>990</td>\n",
       "    </tr>\n",
       "    <tr>\n",
       "      <th>220</th>\n",
       "      <td>100300</td>\n",
       "      <td>B</td>\n",
       "      <td>990</td>\n",
       "    </tr>\n",
       "    <tr>\n",
       "      <th>320</th>\n",
       "      <td>108270</td>\n",
       "      <td>B</td>\n",
       "      <td>290</td>\n",
       "    </tr>\n",
       "  </tbody>\n",
       "</table>\n",
       "</div>"
      ],
      "text/plain": [
       "         id grp  rev\n",
       "1      1627   A  990\n",
       "220  100300   B  990\n",
       "320  108270   B  290"
      ]
     },
     "execution_count": 30,
     "metadata": {},
     "output_type": "execute_result"
    }
   ],
   "source": [
    "# таблица для оценки ARPPU\n",
    "active_exp2 = active.loc[:, ['id', 'grp', 'rev']].copy()\n",
    "active_exp2 = active_exp2.query(\"rev != 0\")\n",
    "active_exp2.head(3)"
   ]
  },
  {
   "cell_type": "markdown",
   "id": "9cc517e6",
   "metadata": {},
   "source": [
    "Посмотрим на распределение оплат в разных группах"
   ]
  },
  {
   "cell_type": "code",
   "execution_count": 31,
   "id": "29cfcdd6",
   "metadata": {},
   "outputs": [
    {
     "data": {
      "image/png": "[encoded data removed]",
      "text/plain": [
       "<Figure size 2160x1200 with 1 Axes>"
      ]
     },
     "metadata": {},
     "output_type": "display_data"
    }
   ],
   "source": [
    "ax = sns.histplot(data=active_exp2, \n",
    "                  x='rev', \n",
    "                  hue='grp', \n",
    "                  bins=20, \n",
    "                  stat=\"density\", \n",
    "                  common_norm=False)\n",
    "ax.set(title='Распределение оплат в обеих группах', xlabel='Размеры оплат')\n",
    "ax.legend_.set_title('Группы')"
   ]
  },
  {
   "cell_type": "markdown",
   "id": "8d21e847",
   "metadata": {},
   "source": [
    "В глаза бросается столбец с оплатами около 2000 в группе B."
   ]
  },
  {
   "cell_type": "markdown",
   "id": "e1ca12ec",
   "metadata": {},
   "source": [
    "Посмотрим какие оплаты преобладали в разных группах."
   ]
  },
  {
   "cell_type": "code",
   "execution_count": 32,
   "id": "7eba2449",
   "metadata": {},
   "outputs": [
    {
     "data": {
      "text/plain": [
       "290    25\n",
       "580     6\n",
       "990     5\n",
       "199     5\n",
       "590     5\n",
       "Name: rev, dtype: int64"
      ]
     },
     "execution_count": 32,
     "metadata": {},
     "output_type": "execute_result"
    }
   ],
   "source": [
    "active_exp2.query(\"grp == 'A'\").rev.value_counts().head()"
   ]
  },
  {
   "cell_type": "code",
   "execution_count": 33,
   "id": "803ecba3",
   "metadata": {},
   "outputs": [
    {
     "data": {
      "text/plain": [
       "1900    128\n",
       "290      45\n",
       "199      27\n",
       "840      21\n",
       "990      17\n",
       "Name: rev, dtype: int64"
      ]
     },
     "execution_count": 33,
     "metadata": {},
     "output_type": "execute_result"
    }
   ],
   "source": [
    "active_exp2.query(\"grp == 'B'\").rev.value_counts().head()"
   ]
  },
  {
   "cell_type": "markdown",
   "id": "5c50b8a9",
   "metadata": {},
   "source": [
    "Видим, что оплата в 1900 была очень популярна в группе B. При этом в группе A таких оплат не было вовсе.\n",
    "\n",
    "Такой столбец в группе B явно должен повлиять на результаты. Посмотрим!"
   ]
  },
  {
   "cell_type": "markdown",
   "id": "4f897a17",
   "metadata": {},
   "source": [
    "Как видим из предыдущего графика, данные далеки от нормальных. По идее, можно использовать тест Манна-Уитни. Но в наших данных очень много повторяющихся значений, что не очень хорошо сказывается на тесте Манна-Уитни. Поэтому лучше будем использовать Бутстрап. Он всеяден. Его основная проблема - потребляет много ресурсов. Но так как датасет у нас относительно небольшой, то Бутстрап в нашем случае пройдет легко."
   ]
  },
  {
   "cell_type": "markdown",
   "id": "85ae431a",
   "metadata": {},
   "source": [
    "#### Объявим функцию бутстрапирования:"
   ]
  },
  {
   "cell_type": "code",
   "execution_count": 34,
   "id": "f1079739",
   "metadata": {},
   "outputs": [],
   "source": [
    "def get_bootstrap(data_column_1, data_column_2, boot_it=1000, statistic=np.mean, bootstrap_conf_level=0.95,\n",
    "                  plot='on', seed=None):\n",
    "    if seed:\n",
    "        np.random.seed(seed)\n",
    "        \n",
    "    boot_len = max([len(data_column_1), len(data_column_2)])\n",
    "    \n",
    "    boot_data = []\n",
    "\n",
    "    for i in range(boot_it):  # извлекаем подвыборки\n",
    "        samples_1 = data_column_1.sample(boot_len, replace=True).values\n",
    "        samples_2 = data_column_2.sample(boot_len, replace=True).values\n",
    "        \n",
    "        boot_data.append(statistic(samples_1) - statistic(samples_2))  # применяем статистику\n",
    "        \n",
    "    pd_boot_data = pd.DataFrame(boot_data)\n",
    "        \n",
    "    left_quant = (1 - bootstrap_conf_level) / 2\n",
    "    right_quant = 1 - (1 - bootstrap_conf_level) / 2\n",
    "    quants = pd_boot_data.quantile([left_quant, right_quant])\n",
    "        \n",
    "    p_1 = st.norm.cdf(x=0, loc=np.mean(boot_data), scale=np.std(boot_data))\n",
    "    p_2 = st.norm.cdf(x=0, loc=-np.mean(boot_data), scale=np.std(boot_data))\n",
    "    p_value = min(p_1, p_2) * 2\n",
    "        \n",
    "    # Визуализация\n",
    "    plt.style.use('ggplot')\n",
    "    if plot == 'on':\n",
    "        _, _, bars = plt.hist(pd_boot_data[0], bins=50)\n",
    "        for bar in bars:\n",
    "            if bar.get_x() <= quants.iloc[0][0] or bar.get_x() >= quants.iloc[1][0]:\n",
    "                bar.set_facecolor('red')\n",
    "            else: \n",
    "                bar.set_facecolor('grey')\n",
    "                bar.set_edgecolor('black')\n",
    "\n",
    "        plt.vlines(quants, ymin=0, ymax=500, linestyle='--')\n",
    "        plt.xlabel('boot_data')\n",
    "        plt.ylabel('frequency')\n",
    "        plt.title(\"Histogram of boot_data\")\n",
    "        plt.show()\n",
    "       \n",
    "    return {\"boot_data\": boot_data, \"quants\": quants, \"p_value\": p_value}"
   ]
  },
  {
   "cell_type": "markdown",
   "id": "c6fb850a",
   "metadata": {},
   "source": [
    "#### Бутстрап ARPPU"
   ]
  },
  {
   "cell_type": "code",
   "execution_count": 35,
   "id": "3f7f13d3",
   "metadata": {},
   "outputs": [],
   "source": [
    "a = active_exp2.query(\"grp == 'A'\").rev\n",
    "b = active_exp2.query(\"grp == 'B'\").rev"
   ]
  },
  {
   "cell_type": "code",
   "execution_count": 36,
   "id": "63d3773f",
   "metadata": {},
   "outputs": [
    {
     "data": {
      "text/plain": [
       "933.5897435897435"
      ]
     },
     "execution_count": 36,
     "metadata": {},
     "output_type": "execute_result"
    }
   ],
   "source": [
    "a.mean()  # ARPPU  в группе А"
   ]
  },
  {
   "cell_type": "code",
   "execution_count": 37,
   "id": "bec53100",
   "metadata": {},
   "outputs": [
    {
     "data": {
      "text/plain": [
       "1257.8789808917197"
      ]
     },
     "execution_count": 37,
     "metadata": {},
     "output_type": "execute_result"
    }
   ],
   "source": [
    "b.mean()  # ARPPU  в группе B"
   ]
  },
  {
   "cell_type": "markdown",
   "id": "ca36d4b5",
   "metadata": {},
   "source": [
    "Видно, что ARPPU в группах различаются. Но статзначимо ли это различие?"
   ]
  },
  {
   "cell_type": "code",
   "execution_count": 38,
   "id": "83c564d2",
   "metadata": {},
   "outputs": [],
   "source": [
    "set_style(default_rc=True)"
   ]
  },
  {
   "cell_type": "code",
   "execution_count": 39,
   "id": "6051a493",
   "metadata": {},
   "outputs": [
    {
     "data": {
      "image/png": "[encoded data removed]",
      "text/plain": [
       "<Figure size 640x480 with 1 Axes>"
      ]
     },
     "metadata": {},
     "output_type": "display_data"
    }
   ],
   "source": [
    "bootstrap = get_bootstrap(a, b, bootstrap_conf_level=0.95, boot_it=10000, seed=5)"
   ]
  },
  {
   "cell_type": "code",
   "execution_count": 40,
   "id": "83f07f62",
   "metadata": {
    "scrolled": true
   },
   "outputs": [
    {
     "data": {
      "text/plain": [
       "1.8724489828874039e-06"
      ]
     },
     "execution_count": 40,
     "metadata": {},
     "output_type": "execute_result"
    }
   ],
   "source": [
    "bootstrap['p_value']"
   ]
  },
  {
   "cell_type": "markdown",
   "id": "c462bec4",
   "metadata": {},
   "source": [
    "Различия оказались статзначимы, причем p-value очень низкое, что дает основания отклонить нулевую гепотезу и принять альтернативную, что различия ARPPU между группами есть."
   ]
  },
  {
   "cell_type": "markdown",
   "id": "9a5680c0",
   "metadata": {},
   "source": [
    "#### Бутстрап ARPPU без 1900"
   ]
  },
  {
   "cell_type": "code",
   "execution_count": 41,
   "id": "4850c820",
   "metadata": {},
   "outputs": [],
   "source": [
    "active_exp2_clean = active_exp2.query(\"rev != 1900\")  # таблица для ARPPU БЕЗ 1900"
   ]
  },
  {
   "cell_type": "code",
   "execution_count": 42,
   "id": "2f1ab98e",
   "metadata": {},
   "outputs": [],
   "source": [
    "a = active_exp2_clean.query(\"grp == 'A'\").rev\n",
    "b = active_exp2_clean.query(\"grp == 'B'\").rev"
   ]
  },
  {
   "cell_type": "code",
   "execution_count": 43,
   "id": "77ee7ab2",
   "metadata": {},
   "outputs": [
    {
     "data": {
      "text/plain": [
       "933.5897435897435"
      ]
     },
     "execution_count": 43,
     "metadata": {},
     "output_type": "execute_result"
    }
   ],
   "source": [
    "a.mean()"
   ]
  },
  {
   "cell_type": "code",
   "execution_count": 44,
   "id": "e71426c6",
   "metadata": {},
   "outputs": [
    {
     "data": {
      "text/plain": [
       "815.989247311828"
      ]
     },
     "execution_count": 44,
     "metadata": {},
     "output_type": "execute_result"
    }
   ],
   "source": [
    "b.mean()"
   ]
  },
  {
   "cell_type": "code",
   "execution_count": 45,
   "id": "26dc9261",
   "metadata": {},
   "outputs": [
    {
     "data": {
      "image/png": "[encoded data removed]",
      "text/plain": [
       "<Figure size 640x480 with 1 Axes>"
      ]
     },
     "metadata": {},
     "output_type": "display_data"
    }
   ],
   "source": [
    "bootstrap = get_bootstrap(a, b, boot_it=10000, seed=5)"
   ]
  },
  {
   "cell_type": "code",
   "execution_count": 46,
   "id": "9dd6289f",
   "metadata": {},
   "outputs": [
    {
     "data": {
      "text/html": [
       "<div>\n",
       "<style scoped>\n",
       "    .dataframe tbody tr th:only-of-type {\n",
       "        vertical-align: middle;\n",
       "    }\n",
       "\n",
       "    .dataframe tbody tr th {\n",
       "        vertical-align: top;\n",
       "    }\n",
       "\n",
       "    .dataframe thead th {\n",
       "        text-align: right;\n",
       "    }\n",
       "</style>\n",
       "<table border=\"1\" class=\"dataframe\">\n",
       "  <thead>\n",
       "    <tr style=\"text-align: right;\">\n",
       "      <th></th>\n",
       "      <th>0</th>\n",
       "    </tr>\n",
       "  </thead>\n",
       "  <tbody>\n",
       "    <tr>\n",
       "      <th>0.025</th>\n",
       "      <td>-52.951344</td>\n",
       "    </tr>\n",
       "    <tr>\n",
       "      <th>0.975</th>\n",
       "      <td>288.561962</td>\n",
       "    </tr>\n",
       "  </tbody>\n",
       "</table>\n",
       "</div>"
      ],
      "text/plain": [
       "                0\n",
       "0.025  -52.951344\n",
       "0.975  288.561962"
      ]
     },
     "execution_count": 46,
     "metadata": {},
     "output_type": "execute_result"
    }
   ],
   "source": [
    "bootstrap['quants']"
   ]
  },
  {
   "cell_type": "code",
   "execution_count": 47,
   "id": "2c02edb5",
   "metadata": {},
   "outputs": [
    {
     "data": {
      "text/plain": [
       "0.176042630190677"
      ]
     },
     "execution_count": 47,
     "metadata": {},
     "output_type": "execute_result"
    }
   ],
   "source": [
    "bootstrap['p_value']"
   ]
  },
  {
   "cell_type": "markdown",
   "id": "c104ed76",
   "metadata": {},
   "source": [
    "Разница не статзначима, нулевую гепотезу не отклоняем, то есть, различия в ARPPU без 1900 между группами найдено не было. Оплаты в 1900 пользователями сильно повлияли на результаты. Возможно, что-то заставило пользователей на новой странице делать оплаты на эту сумму, и это, возможно, и есть особенность новой страницы оплаты."
   ]
  },
  {
   "cell_type": "markdown",
   "id": "88417e1c",
   "metadata": {},
   "source": [
    "Идем дальше"
   ]
  },
  {
   "cell_type": "markdown",
   "id": "83fb440f",
   "metadata": {},
   "source": [
    "#### Бутстрап ARPAU"
   ]
  },
  {
   "cell_type": "code",
   "execution_count": 48,
   "id": "d3efa4fe",
   "metadata": {},
   "outputs": [
    {
     "data": {
      "text/html": [
       "<div>\n",
       "<style scoped>\n",
       "    .dataframe tbody tr th:only-of-type {\n",
       "        vertical-align: middle;\n",
       "    }\n",
       "\n",
       "    .dataframe tbody tr th {\n",
       "        vertical-align: top;\n",
       "    }\n",
       "\n",
       "    .dataframe thead th {\n",
       "        text-align: right;\n",
       "    }\n",
       "</style>\n",
       "<table border=\"1\" class=\"dataframe\">\n",
       "  <thead>\n",
       "    <tr style=\"text-align: right;\">\n",
       "      <th></th>\n",
       "      <th>id</th>\n",
       "      <th>grp</th>\n",
       "      <th>rev</th>\n",
       "    </tr>\n",
       "  </thead>\n",
       "  <tbody>\n",
       "    <tr>\n",
       "      <th>1</th>\n",
       "      <td>1627</td>\n",
       "      <td>A</td>\n",
       "      <td>990</td>\n",
       "    </tr>\n",
       "    <tr>\n",
       "      <th>10</th>\n",
       "      <td>2085</td>\n",
       "      <td>B</td>\n",
       "      <td>0</td>\n",
       "    </tr>\n",
       "    <tr>\n",
       "      <th>12</th>\n",
       "      <td>2215</td>\n",
       "      <td>B</td>\n",
       "      <td>0</td>\n",
       "    </tr>\n",
       "  </tbody>\n",
       "</table>\n",
       "</div>"
      ],
      "text/plain": [
       "      id grp  rev\n",
       "1   1627   A  990\n",
       "10  2085   B    0\n",
       "12  2215   B    0"
      ]
     },
     "execution_count": 48,
     "metadata": {},
     "output_type": "execute_result"
    }
   ],
   "source": [
    "active_exp3 = active.loc[:, ['id', 'grp', 'rev']]  # Таблица для оценки ARPAU\n",
    "active_exp3.head(3)"
   ]
  },
  {
   "cell_type": "code",
   "execution_count": 49,
   "id": "b12bbf41",
   "metadata": {},
   "outputs": [],
   "source": [
    "a = active_exp3.query(\"grp == 'A'\").rev\n",
    "b = active_exp3.query(\"grp == 'B'\").rev"
   ]
  },
  {
   "cell_type": "code",
   "execution_count": 50,
   "id": "e7258a90",
   "metadata": {},
   "outputs": [
    {
     "data": {
      "text/plain": [
       "47.34720416124838"
      ]
     },
     "execution_count": 50,
     "metadata": {},
     "output_type": "execute_result"
    }
   ],
   "source": [
    "a.mean()  # ARPAU группы \"А\""
   ]
  },
  {
   "cell_type": "code",
   "execution_count": 51,
   "id": "27bea1ec",
   "metadata": {},
   "outputs": [
    {
     "data": {
      "text/plain": [
       "58.05879758929884"
      ]
     },
     "execution_count": 51,
     "metadata": {},
     "output_type": "execute_result"
    }
   ],
   "source": [
    "b.mean()  # ARPAU группы \"B\""
   ]
  },
  {
   "cell_type": "code",
   "execution_count": 52,
   "id": "a0a77cf1",
   "metadata": {
    "scrolled": false
   },
   "outputs": [
    {
     "data": {
      "image/png": "[encoded data removed]",
      "text/plain": [
       "<Figure size 640x480 with 1 Axes>"
      ]
     },
     "metadata": {},
     "output_type": "display_data"
    }
   ],
   "source": [
    "bootstrap = get_bootstrap(a, b, bootstrap_conf_level=0.95, boot_it=10000, seed=5)"
   ]
  },
  {
   "cell_type": "code",
   "execution_count": 53,
   "id": "4c4c1df6",
   "metadata": {
    "scrolled": true
   },
   "outputs": [
    {
     "data": {
      "text/plain": [
       "0.037454943905315334"
      ]
     },
     "execution_count": 53,
     "metadata": {},
     "output_type": "execute_result"
    }
   ],
   "source": [
    "bootstrap['p_value']"
   ]
  },
  {
   "cell_type": "markdown",
   "id": "e8a5f5e6",
   "metadata": {},
   "source": [
    "При уровне значимости 5% различия статзначимы. Принимаем, что ARPAU у групп различаются."
   ]
  },
  {
   "cell_type": "markdown",
   "id": "1f87a318",
   "metadata": {},
   "source": [
    "#### Проверим теперь разницу в ARPU"
   ]
  },
  {
   "cell_type": "code",
   "execution_count": 54,
   "id": "995b60f4",
   "metadata": {},
   "outputs": [
    {
     "data": {
      "text/html": [
       "<div>\n",
       "<style scoped>\n",
       "    .dataframe tbody tr th:only-of-type {\n",
       "        vertical-align: middle;\n",
       "    }\n",
       "\n",
       "    .dataframe tbody tr th {\n",
       "        vertical-align: top;\n",
       "    }\n",
       "\n",
       "    .dataframe thead th {\n",
       "        text-align: right;\n",
       "    }\n",
       "</style>\n",
       "<table border=\"1\" class=\"dataframe\">\n",
       "  <thead>\n",
       "    <tr style=\"text-align: right;\">\n",
       "      <th></th>\n",
       "      <th>id</th>\n",
       "      <th>grp</th>\n",
       "      <th>rev</th>\n",
       "    </tr>\n",
       "  </thead>\n",
       "  <tbody>\n",
       "    <tr>\n",
       "      <th>0</th>\n",
       "      <td>1489</td>\n",
       "      <td>B</td>\n",
       "      <td>0</td>\n",
       "    </tr>\n",
       "    <tr>\n",
       "      <th>1</th>\n",
       "      <td>1627</td>\n",
       "      <td>A</td>\n",
       "      <td>990</td>\n",
       "    </tr>\n",
       "    <tr>\n",
       "      <th>2</th>\n",
       "      <td>1768</td>\n",
       "      <td>B</td>\n",
       "      <td>0</td>\n",
       "    </tr>\n",
       "  </tbody>\n",
       "</table>\n",
       "</div>"
      ],
      "text/plain": [
       "     id grp  rev\n",
       "0  1489   B    0\n",
       "1  1627   A  990\n",
       "2  1768   B    0"
      ]
     },
     "execution_count": 54,
     "metadata": {},
     "output_type": "execute_result"
    }
   ],
   "source": [
    "all_users = grs.loc[:, ['id', 'grp', 'rev']]\n",
    "all_users.head(3)"
   ]
  },
  {
   "cell_type": "code",
   "execution_count": 55,
   "id": "dc24e1f6",
   "metadata": {},
   "outputs": [],
   "source": [
    "a = all_users.query(\"grp == 'A'\").rev\n",
    "b = all_users.query(\"grp == 'B'\").rev"
   ]
  },
  {
   "cell_type": "code",
   "execution_count": 56,
   "id": "b107e386",
   "metadata": {},
   "outputs": [
    {
     "data": {
      "text/plain": [
       "4.965902891434807"
      ]
     },
     "execution_count": 56,
     "metadata": {},
     "output_type": "execute_result"
    }
   ],
   "source": [
    "a.mean()  # ARPU группы \"А\""
   ]
  },
  {
   "cell_type": "code",
   "execution_count": 57,
   "id": "f495e448",
   "metadata": {},
   "outputs": [
    {
     "data": {
      "text/plain": [
       "6.609005572009437"
      ]
     },
     "execution_count": 57,
     "metadata": {},
     "output_type": "execute_result"
    }
   ],
   "source": [
    "b.mean()  # ARPU группы \"B\""
   ]
  },
  {
   "cell_type": "code",
   "execution_count": 58,
   "id": "8a239aa6",
   "metadata": {},
   "outputs": [
    {
     "data": {
      "image/png": "[encoded data removed]",
      "text/plain": [
       "<Figure size 640x480 with 1 Axes>"
      ]
     },
     "metadata": {},
     "output_type": "display_data"
    }
   ],
   "source": [
    "bootstrap = get_bootstrap(a, b, bootstrap_conf_level=0.95, boot_it=10000, seed=5)"
   ]
  },
  {
   "cell_type": "code",
   "execution_count": 59,
   "id": "0aa6b5a2",
   "metadata": {
    "scrolled": true
   },
   "outputs": [
    {
     "data": {
      "text/html": [
       "<div>\n",
       "<style scoped>\n",
       "    .dataframe tbody tr th:only-of-type {\n",
       "        vertical-align: middle;\n",
       "    }\n",
       "\n",
       "    .dataframe tbody tr th {\n",
       "        vertical-align: top;\n",
       "    }\n",
       "\n",
       "    .dataframe thead th {\n",
       "        text-align: right;\n",
       "    }\n",
       "</style>\n",
       "<table border=\"1\" class=\"dataframe\">\n",
       "  <thead>\n",
       "    <tr style=\"text-align: right;\">\n",
       "      <th></th>\n",
       "      <th>0</th>\n",
       "    </tr>\n",
       "  </thead>\n",
       "  <tbody>\n",
       "    <tr>\n",
       "      <th>0.025</th>\n",
       "      <td>-2.786557</td>\n",
       "    </tr>\n",
       "    <tr>\n",
       "      <th>0.975</th>\n",
       "      <td>-0.510863</td>\n",
       "    </tr>\n",
       "  </tbody>\n",
       "</table>\n",
       "</div>"
      ],
      "text/plain": [
       "              0\n",
       "0.025 -2.786557\n",
       "0.975 -0.510863"
      ]
     },
     "execution_count": 59,
     "metadata": {},
     "output_type": "execute_result"
    }
   ],
   "source": [
    "bootstrap['quants']"
   ]
  },
  {
   "cell_type": "code",
   "execution_count": 60,
   "id": "6ba3acf0",
   "metadata": {},
   "outputs": [
    {
     "data": {
      "text/plain": [
       "0.004898648611264053"
      ]
     },
     "execution_count": 60,
     "metadata": {},
     "output_type": "execute_result"
    }
   ],
   "source": [
    "bootstrap['p_value']"
   ]
  },
  {
   "cell_type": "markdown",
   "id": "04fd3be7",
   "metadata": {},
   "source": [
    "Получили уверенную статзначимость результатов. Примем альтернативную гипотезу, что ARPU групп различаются."
   ]
  },
  {
   "cell_type": "markdown",
   "id": "d29469b7",
   "metadata": {},
   "source": [
    "Итак, проверили все метрики. Но прежде, чем делать окончательные выводы, проверим еще одну вещь.\n",
    "\n",
    "Заметил, что p-value разницы в ARPU ниже, чем разницы в ARPAU. Это по идее не логично, потому что с увеличением уровня юзеров p-value должен бы наоборот расти. Можно предположить, что что-то не так с конверсией из простого юзера в активные (зашедшие на сайт). Проверим."
   ]
  },
  {
   "cell_type": "code",
   "execution_count": 61,
   "id": "daf49c12",
   "metadata": {},
   "outputs": [],
   "source": [
    "a = grs.query(\"grp == 'A'\").active\n",
    "b = grs.query(\"grp == 'B'\").active"
   ]
  },
  {
   "cell_type": "code",
   "execution_count": 62,
   "id": "8eeb541b",
   "metadata": {},
   "outputs": [
    {
     "data": {
      "text/plain": [
       "0.10488270594653573"
      ]
     },
     "execution_count": 62,
     "metadata": {},
     "output_type": "execute_result"
    }
   ],
   "source": [
    "a.mean()  # конверсия контрольной группы"
   ]
  },
  {
   "cell_type": "code",
   "execution_count": 63,
   "id": "6470975c",
   "metadata": {},
   "outputs": [
    {
     "data": {
      "text/plain": [
       "0.11383297357897026"
      ]
     },
     "execution_count": 63,
     "metadata": {},
     "output_type": "execute_result"
    }
   ],
   "source": [
    "b.mean()  # тестовой контрольной группы"
   ]
  },
  {
   "cell_type": "markdown",
   "id": "4af6bdec",
   "metadata": {},
   "source": [
    "Как видим, есть разница между конверсиями групп. Но статзначима ли она?\n",
    "\n",
    "Проверять будем с помощью хи-квардрата, как и в случае с CR из активных в покупку."
   ]
  },
  {
   "cell_type": "code",
   "execution_count": 64,
   "id": "ed3d8130",
   "metadata": {},
   "outputs": [
    {
     "data": {
      "text/html": [
       "<div>\n",
       "<style scoped>\n",
       "    .dataframe tbody tr th:only-of-type {\n",
       "        vertical-align: middle;\n",
       "    }\n",
       "\n",
       "    .dataframe tbody tr th {\n",
       "        vertical-align: top;\n",
       "    }\n",
       "\n",
       "    .dataframe thead th {\n",
       "        text-align: right;\n",
       "    }\n",
       "</style>\n",
       "<table border=\"1\" class=\"dataframe\">\n",
       "  <thead>\n",
       "    <tr style=\"text-align: right;\">\n",
       "      <th>active</th>\n",
       "      <th>0</th>\n",
       "      <th>1</th>\n",
       "    </tr>\n",
       "    <tr>\n",
       "      <th>grp</th>\n",
       "      <th></th>\n",
       "      <th></th>\n",
       "    </tr>\n",
       "  </thead>\n",
       "  <tbody>\n",
       "    <tr>\n",
       "      <th>A</th>\n",
       "      <td>13126</td>\n",
       "      <td>1538</td>\n",
       "    </tr>\n",
       "    <tr>\n",
       "      <th>B</th>\n",
       "      <td>52960</td>\n",
       "      <td>6803</td>\n",
       "    </tr>\n",
       "  </tbody>\n",
       "</table>\n",
       "</div>"
      ],
      "text/plain": [
       "active      0     1\n",
       "grp                \n",
       "A       13126  1538\n",
       "B       52960  6803"
      ]
     },
     "execution_count": 64,
     "metadata": {},
     "output_type": "execute_result"
    }
   ],
   "source": [
    "pd.crosstab(grs.grp, grs.active)  # таблица сопряженности"
   ]
  },
  {
   "cell_type": "code",
   "execution_count": 65,
   "id": "f9351bac",
   "metadata": {},
   "outputs": [
    {
     "data": {
      "text/plain": [
       "0.002182661490321881"
      ]
     },
     "execution_count": 65,
     "metadata": {},
     "output_type": "execute_result"
    }
   ],
   "source": [
    "st.chi2_contingency(pd.crosstab(grs.grp, grs.active))[1]"
   ]
  },
  {
   "cell_type": "markdown",
   "id": "bcd334c0",
   "metadata": {},
   "source": [
    "Разница оказалась статзначимой. А этого, по идее, быть не должно."
   ]
  },
  {
   "cell_type": "markdown",
   "id": "104eb7eb",
   "metadata": {},
   "source": [
    "### Выводы"
   ]
  },
  {
   "cell_type": "markdown",
   "id": "1f188475",
   "metadata": {},
   "source": [
    "Итак, получается, что по ARPPU тестовая группа твердо выигрывает. При этом статзначимую разницу в конверсиях из активных в продажи между группами мы не нашли. То есть новая страница оплаты не побуждает большее количество юзеров покупать. Но она побуждает больше платить.\n",
    "\n",
    "Но вот, что интересно: \n",
    "\n",
    "1. Есть интересные оплаты на 1900 у тестовой группы. Таких оплат нет у контрольной. И без этих оплат статзначимой разницы в ARPPU найдено не было. Мы, конечно, не знаем, как повели бы себя пользователи, если бы у них не было возможности купить на 1900. Но в данном конкретном случае именно эти оплаты сдвинули ARPPU в тестовой группе в большую сторону, и тестовое ARPPU в итоге стало статзначимо больше контрольной ARPPU. Это хорошо видно по графику распределений оплат: других выделяющихся столбцов у тестовой группы не было, и роста других крупных покупок (выше ARPPU контрольной группы) не произошло. За исключением нескольких оплат, у тестовой группы даже меньше крупных оплат, чем у контрольной. В итоге, надо обратить пристальное внимание на эти оплаты в 1900 и как они связаны с изменением механики оплаты на сайте.\n",
    "    \n",
    "2. По какой-то причине конверсия в активные (кто зашел на сайт) статзначимо отличается в группах, чего быть по идее не должно, так как группы должны быть однородны по своему поведению, на которое не влияет наш эксперимент. А новая фича никак не может влиять на вероятность захода на сайт.\n",
    "\n",
    "Учитывая вышесказанное, несмотря на то, что были найдены статзначимые различия в ARPU в пользу тестовой группы, не могу пока рекомендовать запускать новую механику оплаты на всех пользователей. Необходимо сначала понять, почему группы так сильно различаются по конверсии в активных (возможно, проблемы с системой сплитования). А также вопрос с оплатами в 1900, почему именно они способствовали возросшей ARPPU в тестовой группе, это закономерное влияние новой механики оплат и так и задумывалось или же просто баг?"
   ]
  }
 ],
 "metadata": {
  "kernelspec": {
   "display_name": "Python 3 (ipykernel)",
   "language": "python",
   "name": "python3"
  },
  "language_info": {
   "codemirror_mode": {
    "name": "ipython",
    "version": 3
   },
   "file_extension": ".py",
   "mimetype": "text/x-python",
   "name": "python",
   "nbconvert_exporter": "python",
   "pygments_lexer": "ipython3",
   "version": "3.9.12"
  }
 },
 "nbformat": 4,
 "nbformat_minor": 5
}
